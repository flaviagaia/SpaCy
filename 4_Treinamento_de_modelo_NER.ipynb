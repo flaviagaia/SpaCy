{
  "nbformat": 4,
  "nbformat_minor": 0,
  "metadata": {
    "colab": {
      "name": "4- Treinamento de modelo NER.ipynb",
      "provenance": [],
      "authorship_tag": "ABX9TyO0YjaCrhm/K3Oti+EjqGkn",
      "include_colab_link": true
    },
    "kernelspec": {
      "name": "python3",
      "display_name": "Python 3"
    },
    "language_info": {
      "name": "python"
    }
  },
  "cells": [
    {
      "cell_type": "markdown",
      "metadata": {
        "id": "view-in-github",
        "colab_type": "text"
      },
      "source": [
        "<a href=\"https://colab.research.google.com/github/flaviagaia/SpaCy/blob/main/4_Treinamento_de_modelo_NER.ipynb\" target=\"_parent\"><img src=\"https://colab.research.google.com/assets/colab-badge.svg\" alt=\"Open In Colab\"/></a>"
      ]
    },
    {
      "cell_type": "markdown",
      "metadata": {
        "id": "uILestBGpxEZ"
      },
      "source": [
        "# **Named Entity Recognition (NER)**\n",
        "\n",
        "Reconhecimento de Entidade Nomeada, é um processo de identificação de entidades predefinidas presentes em um texto, como nome da pessoa, organização, local etc.\n",
        "\n",
        "É um modelo estatístico treinado em um conjunto de dados rotulado e usado para extrair informações de um determinado conjunto de dados."
      ]
    },
    {
      "cell_type": "markdown",
      "metadata": {
        "id": "0ATnLx88qwh6"
      },
      "source": [
        "# Instalar o spaCy"
      ]
    },
    {
      "cell_type": "code",
      "metadata": {
        "colab": {
          "base_uri": "https://localhost:8080/"
        },
        "id": "0G0Lncduqrvz",
        "outputId": "32200ba1-5b25-44cf-bdf9-3694c45fb8e0"
      },
      "source": [
        "!pip install -q spacy==2.2.3"
      ],
      "execution_count": null,
      "outputs": [
        {
          "output_type": "stream",
          "text": [
            "\u001b[K     |████████████████████████████████| 10.4MB 4.3MB/s \n",
            "\u001b[K     |████████████████████████████████| 2.2MB 34.6MB/s \n",
            "\u001b[?25h"
          ],
          "name": "stdout"
        }
      ]
    },
    {
      "cell_type": "markdown",
      "metadata": {
        "id": "585E2jwEq1Rj"
      },
      "source": [
        "# Download do modelo\n",
        "\n",
        "Usando um modelo pronto da spaCy, que contém idioma, linguagens, vocabulários, vetores treinados, sintaxes e entidades."
      ]
    },
    {
      "cell_type": "code",
      "metadata": {
        "colab": {
          "base_uri": "https://localhost:8080/"
        },
        "id": "5nTLiy3WrU5g",
        "outputId": "152cdb89-3dff-4f4c-edc3-7363446a0bbb"
      },
      "source": [
        "# Português\n",
        "!python -m spacy download pt_core_news_sm"
      ],
      "execution_count": null,
      "outputs": [
        {
          "output_type": "stream",
          "text": [
            "Collecting pt_core_news_sm==2.2.5\n",
            "\u001b[?25l  Downloading https://github.com/explosion/spacy-models/releases/download/pt_core_news_sm-2.2.5/pt_core_news_sm-2.2.5.tar.gz (21.2MB)\n",
            "\u001b[K     |████████████████████████████████| 21.2MB 1.3MB/s \n",
            "\u001b[?25hRequirement already satisfied: spacy>=2.2.2 in /usr/local/lib/python3.7/dist-packages (from pt_core_news_sm==2.2.5) (2.2.3)\n",
            "Requirement already satisfied: blis<0.5.0,>=0.4.0 in /usr/local/lib/python3.7/dist-packages (from spacy>=2.2.2->pt_core_news_sm==2.2.5) (0.4.1)\n",
            "Requirement already satisfied: thinc<7.4.0,>=7.3.0 in /usr/local/lib/python3.7/dist-packages (from spacy>=2.2.2->pt_core_news_sm==2.2.5) (7.3.1)\n",
            "Requirement already satisfied: numpy>=1.15.0 in /usr/local/lib/python3.7/dist-packages (from spacy>=2.2.2->pt_core_news_sm==2.2.5) (1.19.5)\n",
            "Requirement already satisfied: requests<3.0.0,>=2.13.0 in /usr/local/lib/python3.7/dist-packages (from spacy>=2.2.2->pt_core_news_sm==2.2.5) (2.23.0)\n",
            "Requirement already satisfied: setuptools in /usr/local/lib/python3.7/dist-packages (from spacy>=2.2.2->pt_core_news_sm==2.2.5) (57.0.0)\n",
            "Requirement already satisfied: srsly<1.1.0,>=0.1.0 in /usr/local/lib/python3.7/dist-packages (from spacy>=2.2.2->pt_core_news_sm==2.2.5) (1.0.5)\n",
            "Requirement already satisfied: wasabi<1.1.0,>=0.4.0 in /usr/local/lib/python3.7/dist-packages (from spacy>=2.2.2->pt_core_news_sm==2.2.5) (0.8.2)\n",
            "Requirement already satisfied: preshed<3.1.0,>=3.0.2 in /usr/local/lib/python3.7/dist-packages (from spacy>=2.2.2->pt_core_news_sm==2.2.5) (3.0.5)\n",
            "Requirement already satisfied: cymem<2.1.0,>=2.0.2 in /usr/local/lib/python3.7/dist-packages (from spacy>=2.2.2->pt_core_news_sm==2.2.5) (2.0.5)\n",
            "Requirement already satisfied: plac<1.2.0,>=0.9.6 in /usr/local/lib/python3.7/dist-packages (from spacy>=2.2.2->pt_core_news_sm==2.2.5) (1.1.3)\n",
            "Requirement already satisfied: murmurhash<1.1.0,>=0.28.0 in /usr/local/lib/python3.7/dist-packages (from spacy>=2.2.2->pt_core_news_sm==2.2.5) (1.0.5)\n",
            "Requirement already satisfied: catalogue<1.1.0,>=0.0.7 in /usr/local/lib/python3.7/dist-packages (from spacy>=2.2.2->pt_core_news_sm==2.2.5) (1.0.0)\n",
            "Requirement already satisfied: tqdm<5.0.0,>=4.10.0 in /usr/local/lib/python3.7/dist-packages (from thinc<7.4.0,>=7.3.0->spacy>=2.2.2->pt_core_news_sm==2.2.5) (4.41.1)\n",
            "Requirement already satisfied: idna<3,>=2.5 in /usr/local/lib/python3.7/dist-packages (from requests<3.0.0,>=2.13.0->spacy>=2.2.2->pt_core_news_sm==2.2.5) (2.10)\n",
            "Requirement already satisfied: urllib3!=1.25.0,!=1.25.1,<1.26,>=1.21.1 in /usr/local/lib/python3.7/dist-packages (from requests<3.0.0,>=2.13.0->spacy>=2.2.2->pt_core_news_sm==2.2.5) (1.24.3)\n",
            "Requirement already satisfied: chardet<4,>=3.0.2 in /usr/local/lib/python3.7/dist-packages (from requests<3.0.0,>=2.13.0->spacy>=2.2.2->pt_core_news_sm==2.2.5) (3.0.4)\n",
            "Requirement already satisfied: certifi>=2017.4.17 in /usr/local/lib/python3.7/dist-packages (from requests<3.0.0,>=2.13.0->spacy>=2.2.2->pt_core_news_sm==2.2.5) (2021.5.30)\n",
            "Requirement already satisfied: importlib-metadata>=0.20; python_version < \"3.8\" in /usr/local/lib/python3.7/dist-packages (from catalogue<1.1.0,>=0.0.7->spacy>=2.2.2->pt_core_news_sm==2.2.5) (4.5.0)\n",
            "Requirement already satisfied: zipp>=0.5 in /usr/local/lib/python3.7/dist-packages (from importlib-metadata>=0.20; python_version < \"3.8\"->catalogue<1.1.0,>=0.0.7->spacy>=2.2.2->pt_core_news_sm==2.2.5) (3.4.1)\n",
            "Requirement already satisfied: typing-extensions>=3.6.4; python_version < \"3.8\" in /usr/local/lib/python3.7/dist-packages (from importlib-metadata>=0.20; python_version < \"3.8\"->catalogue<1.1.0,>=0.0.7->spacy>=2.2.2->pt_core_news_sm==2.2.5) (3.7.4.3)\n",
            "Building wheels for collected packages: pt-core-news-sm\n",
            "  Building wheel for pt-core-news-sm (setup.py) ... \u001b[?25l\u001b[?25hdone\n",
            "  Created wheel for pt-core-news-sm: filename=pt_core_news_sm-2.2.5-cp37-none-any.whl size=21186282 sha256=dae41bde23eddbaf1158064e4c9141d719ea04268329091570c754fc10ea7215\n",
            "  Stored in directory: /tmp/pip-ephem-wheel-cache-v9k4cyqq/wheels/ea/94/74/ec9be8418e9231b471be5dc7e1b45dd670019a376a6b5bc1c0\n",
            "Successfully built pt-core-news-sm\n",
            "Installing collected packages: pt-core-news-sm\n",
            "Successfully installed pt-core-news-sm-2.2.5\n",
            "\u001b[38;5;2m✔ Download and installation successful\u001b[0m\n",
            "You can now load the model via spacy.load('pt_core_news_sm')\n"
          ],
          "name": "stdout"
        }
      ]
    },
    {
      "cell_type": "code",
      "metadata": {
        "id": "1U_hHZ7Jrd2D"
      },
      "source": [
        "# Importações e carregamento do modelo:\n",
        "\n",
        "import spacy\n",
        "import pt_core_news_sm\n",
        "\n",
        "nlp = pt_core_news_sm.load()"
      ],
      "execution_count": null,
      "outputs": []
    },
    {
      "cell_type": "markdown",
      "metadata": {
        "id": "czrrpbAPrXdZ"
      },
      "source": [
        "# Exemplo"
      ]
    },
    {
      "cell_type": "code",
      "metadata": {
        "colab": {
          "base_uri": "https://localhost:8080/"
        },
        "id": "dch2qN9prqBT",
        "outputId": "acc72b90-aa9e-43c2-a2b1-5ded200bf15e"
      },
      "source": [
        "texto = nlp('Brasília é a capital do Brasil desde 21/04/1960') # Texto utilizado\n",
        "\n",
        "# Identificando as etidades + tipo do texto:\n",
        "for entidade in texto.ents:\n",
        "  print(entidade.text, entidade.label_)"
      ],
      "execution_count": null,
      "outputs": [
        {
          "output_type": "stream",
          "text": [
            "Brasília LOC\n",
            "Brasil LOC\n"
          ],
          "name": "stdout"
        }
      ]
    },
    {
      "cell_type": "code",
      "metadata": {
        "colab": {
          "base_uri": "https://localhost:8080/",
          "height": 52
        },
        "id": "vlR8cMMPruuc",
        "outputId": "81cb5714-8bed-4f34-ece7-6bb876d93d34"
      },
      "source": [
        "# Destacando visualmente as entidades e seus tipos:\n",
        "\n",
        "spacy.displacy.render(texto, style='ent', jupyter=True)"
      ],
      "execution_count": null,
      "outputs": [
        {
          "output_type": "display_data",
          "data": {
            "text/html": [
              "<div class=\"entities\" style=\"line-height: 2.5; direction: ltr\">\n",
              "<mark class=\"entity\" style=\"background: #ff9561; padding: 0.45em 0.6em; margin: 0 0.25em; line-height: 1; border-radius: 0.35em;\">\n",
              "    Brasília\n",
              "    <span style=\"font-size: 0.8em; font-weight: bold; line-height: 1; border-radius: 0.35em; text-transform: uppercase; vertical-align: middle; margin-left: 0.5rem\">LOC</span>\n",
              "</mark>\n",
              " é a capital do \n",
              "<mark class=\"entity\" style=\"background: #ff9561; padding: 0.45em 0.6em; margin: 0 0.25em; line-height: 1; border-radius: 0.35em;\">\n",
              "    Brasil\n",
              "    <span style=\"font-size: 0.8em; font-weight: bold; line-height: 1; border-radius: 0.35em; text-transform: uppercase; vertical-align: middle; margin-left: 0.5rem\">LOC</span>\n",
              "</mark>\n",
              " desde 21/04/1960</div>"
            ],
            "text/plain": [
              "<IPython.core.display.HTML object>"
            ]
          },
          "metadata": {
            "tags": []
          }
        }
      ]
    },
    {
      "cell_type": "code",
      "metadata": {
        "colab": {
          "base_uri": "https://localhost:8080/",
          "height": 508
        },
        "id": "K2SrGalmsn0l",
        "outputId": "a6e38f24-b104-491c-fc6f-8bb63f93838e"
      },
      "source": [
        "# Visualizando do Analisador de Dependências:\n",
        "\n",
        "spacy.displacy.render(texto, style='dep',jupyter=True)"
      ],
      "execution_count": null,
      "outputs": [
        {
          "output_type": "display_data",
          "data": {
            "text/html": [
              "<svg xmlns=\"http://www.w3.org/2000/svg\" xmlns:xlink=\"http://www.w3.org/1999/xlink\" xml:lang=\"pt\" id=\"3e3417e9c7a9434f87fac7a9f24dc933-0\" class=\"displacy\" width=\"1450\" height=\"487.0\" direction=\"ltr\" style=\"max-width: none; height: 487.0px; color: #000000; background: #ffffff; font-family: Arial; direction: ltr\">\n",
              "<text class=\"displacy-token\" fill=\"currentColor\" text-anchor=\"middle\" y=\"397.0\">\n",
              "    <tspan class=\"displacy-word\" fill=\"currentColor\" x=\"50\">Brasília</tspan>\n",
              "    <tspan class=\"displacy-tag\" dy=\"2em\" fill=\"currentColor\" x=\"50\">PROPN</tspan>\n",
              "</text>\n",
              "\n",
              "<text class=\"displacy-token\" fill=\"currentColor\" text-anchor=\"middle\" y=\"397.0\">\n",
              "    <tspan class=\"displacy-word\" fill=\"currentColor\" x=\"225\">é</tspan>\n",
              "    <tspan class=\"displacy-tag\" dy=\"2em\" fill=\"currentColor\" x=\"225\">VERB</tspan>\n",
              "</text>\n",
              "\n",
              "<text class=\"displacy-token\" fill=\"currentColor\" text-anchor=\"middle\" y=\"397.0\">\n",
              "    <tspan class=\"displacy-word\" fill=\"currentColor\" x=\"400\">a</tspan>\n",
              "    <tspan class=\"displacy-tag\" dy=\"2em\" fill=\"currentColor\" x=\"400\">DET</tspan>\n",
              "</text>\n",
              "\n",
              "<text class=\"displacy-token\" fill=\"currentColor\" text-anchor=\"middle\" y=\"397.0\">\n",
              "    <tspan class=\"displacy-word\" fill=\"currentColor\" x=\"575\">capital</tspan>\n",
              "    <tspan class=\"displacy-tag\" dy=\"2em\" fill=\"currentColor\" x=\"575\">NOUN</tspan>\n",
              "</text>\n",
              "\n",
              "<text class=\"displacy-token\" fill=\"currentColor\" text-anchor=\"middle\" y=\"397.0\">\n",
              "    <tspan class=\"displacy-word\" fill=\"currentColor\" x=\"750\">do</tspan>\n",
              "    <tspan class=\"displacy-tag\" dy=\"2em\" fill=\"currentColor\" x=\"750\">DET</tspan>\n",
              "</text>\n",
              "\n",
              "<text class=\"displacy-token\" fill=\"currentColor\" text-anchor=\"middle\" y=\"397.0\">\n",
              "    <tspan class=\"displacy-word\" fill=\"currentColor\" x=\"925\">Brasil</tspan>\n",
              "    <tspan class=\"displacy-tag\" dy=\"2em\" fill=\"currentColor\" x=\"925\">PROPN</tspan>\n",
              "</text>\n",
              "\n",
              "<text class=\"displacy-token\" fill=\"currentColor\" text-anchor=\"middle\" y=\"397.0\">\n",
              "    <tspan class=\"displacy-word\" fill=\"currentColor\" x=\"1100\">desde</tspan>\n",
              "    <tspan class=\"displacy-tag\" dy=\"2em\" fill=\"currentColor\" x=\"1100\">ADP</tspan>\n",
              "</text>\n",
              "\n",
              "<text class=\"displacy-token\" fill=\"currentColor\" text-anchor=\"middle\" y=\"397.0\">\n",
              "    <tspan class=\"displacy-word\" fill=\"currentColor\" x=\"1275\">21/04/1960</tspan>\n",
              "    <tspan class=\"displacy-tag\" dy=\"2em\" fill=\"currentColor\" x=\"1275\">NUM</tspan>\n",
              "</text>\n",
              "\n",
              "<g class=\"displacy-arrow\">\n",
              "    <path class=\"displacy-arc\" id=\"arrow-3e3417e9c7a9434f87fac7a9f24dc933-0-0\" stroke-width=\"2px\" d=\"M70,352.0 C70,89.5 570.0,89.5 570.0,352.0\" fill=\"none\" stroke=\"currentColor\"/>\n",
              "    <text dy=\"1.25em\" style=\"font-size: 0.8em; letter-spacing: 1px\">\n",
              "        <textPath xlink:href=\"#arrow-3e3417e9c7a9434f87fac7a9f24dc933-0-0\" class=\"displacy-label\" startOffset=\"50%\" side=\"left\" fill=\"currentColor\" text-anchor=\"middle\">nsubj</textPath>\n",
              "    </text>\n",
              "    <path class=\"displacy-arrowhead\" d=\"M70,354.0 L62,342.0 78,342.0\" fill=\"currentColor\"/>\n",
              "</g>\n",
              "\n",
              "<g class=\"displacy-arrow\">\n",
              "    <path class=\"displacy-arc\" id=\"arrow-3e3417e9c7a9434f87fac7a9f24dc933-0-1\" stroke-width=\"2px\" d=\"M245,352.0 C245,177.0 565.0,177.0 565.0,352.0\" fill=\"none\" stroke=\"currentColor\"/>\n",
              "    <text dy=\"1.25em\" style=\"font-size: 0.8em; letter-spacing: 1px\">\n",
              "        <textPath xlink:href=\"#arrow-3e3417e9c7a9434f87fac7a9f24dc933-0-1\" class=\"displacy-label\" startOffset=\"50%\" side=\"left\" fill=\"currentColor\" text-anchor=\"middle\">cop</textPath>\n",
              "    </text>\n",
              "    <path class=\"displacy-arrowhead\" d=\"M245,354.0 L237,342.0 253,342.0\" fill=\"currentColor\"/>\n",
              "</g>\n",
              "\n",
              "<g class=\"displacy-arrow\">\n",
              "    <path class=\"displacy-arc\" id=\"arrow-3e3417e9c7a9434f87fac7a9f24dc933-0-2\" stroke-width=\"2px\" d=\"M420,352.0 C420,264.5 560.0,264.5 560.0,352.0\" fill=\"none\" stroke=\"currentColor\"/>\n",
              "    <text dy=\"1.25em\" style=\"font-size: 0.8em; letter-spacing: 1px\">\n",
              "        <textPath xlink:href=\"#arrow-3e3417e9c7a9434f87fac7a9f24dc933-0-2\" class=\"displacy-label\" startOffset=\"50%\" side=\"left\" fill=\"currentColor\" text-anchor=\"middle\">det</textPath>\n",
              "    </text>\n",
              "    <path class=\"displacy-arrowhead\" d=\"M420,354.0 L412,342.0 428,342.0\" fill=\"currentColor\"/>\n",
              "</g>\n",
              "\n",
              "<g class=\"displacy-arrow\">\n",
              "    <path class=\"displacy-arc\" id=\"arrow-3e3417e9c7a9434f87fac7a9f24dc933-0-3\" stroke-width=\"2px\" d=\"M770,352.0 C770,264.5 910.0,264.5 910.0,352.0\" fill=\"none\" stroke=\"currentColor\"/>\n",
              "    <text dy=\"1.25em\" style=\"font-size: 0.8em; letter-spacing: 1px\">\n",
              "        <textPath xlink:href=\"#arrow-3e3417e9c7a9434f87fac7a9f24dc933-0-3\" class=\"displacy-label\" startOffset=\"50%\" side=\"left\" fill=\"currentColor\" text-anchor=\"middle\">case</textPath>\n",
              "    </text>\n",
              "    <path class=\"displacy-arrowhead\" d=\"M770,354.0 L762,342.0 778,342.0\" fill=\"currentColor\"/>\n",
              "</g>\n",
              "\n",
              "<g class=\"displacy-arrow\">\n",
              "    <path class=\"displacy-arc\" id=\"arrow-3e3417e9c7a9434f87fac7a9f24dc933-0-4\" stroke-width=\"2px\" d=\"M595,352.0 C595,177.0 915.0,177.0 915.0,352.0\" fill=\"none\" stroke=\"currentColor\"/>\n",
              "    <text dy=\"1.25em\" style=\"font-size: 0.8em; letter-spacing: 1px\">\n",
              "        <textPath xlink:href=\"#arrow-3e3417e9c7a9434f87fac7a9f24dc933-0-4\" class=\"displacy-label\" startOffset=\"50%\" side=\"left\" fill=\"currentColor\" text-anchor=\"middle\">nmod</textPath>\n",
              "    </text>\n",
              "    <path class=\"displacy-arrowhead\" d=\"M915.0,354.0 L923.0,342.0 907.0,342.0\" fill=\"currentColor\"/>\n",
              "</g>\n",
              "\n",
              "<g class=\"displacy-arrow\">\n",
              "    <path class=\"displacy-arc\" id=\"arrow-3e3417e9c7a9434f87fac7a9f24dc933-0-5\" stroke-width=\"2px\" d=\"M1120,352.0 C1120,264.5 1260.0,264.5 1260.0,352.0\" fill=\"none\" stroke=\"currentColor\"/>\n",
              "    <text dy=\"1.25em\" style=\"font-size: 0.8em; letter-spacing: 1px\">\n",
              "        <textPath xlink:href=\"#arrow-3e3417e9c7a9434f87fac7a9f24dc933-0-5\" class=\"displacy-label\" startOffset=\"50%\" side=\"left\" fill=\"currentColor\" text-anchor=\"middle\">case</textPath>\n",
              "    </text>\n",
              "    <path class=\"displacy-arrowhead\" d=\"M1120,354.0 L1112,342.0 1128,342.0\" fill=\"currentColor\"/>\n",
              "</g>\n",
              "\n",
              "<g class=\"displacy-arrow\">\n",
              "    <path class=\"displacy-arc\" id=\"arrow-3e3417e9c7a9434f87fac7a9f24dc933-0-6\" stroke-width=\"2px\" d=\"M595,352.0 C595,2.0 1275.0,2.0 1275.0,352.0\" fill=\"none\" stroke=\"currentColor\"/>\n",
              "    <text dy=\"1.25em\" style=\"font-size: 0.8em; letter-spacing: 1px\">\n",
              "        <textPath xlink:href=\"#arrow-3e3417e9c7a9434f87fac7a9f24dc933-0-6\" class=\"displacy-label\" startOffset=\"50%\" side=\"left\" fill=\"currentColor\" text-anchor=\"middle\">nmod</textPath>\n",
              "    </text>\n",
              "    <path class=\"displacy-arrowhead\" d=\"M1275.0,354.0 L1283.0,342.0 1267.0,342.0\" fill=\"currentColor\"/>\n",
              "</g>\n",
              "</svg>"
            ],
            "text/plain": [
              "<IPython.core.display.HTML object>"
            ]
          },
          "metadata": {
            "tags": []
          }
        }
      ]
    },
    {
      "cell_type": "code",
      "metadata": {
        "colab": {
          "base_uri": "https://localhost:8080/"
        },
        "id": "XK6rlx0vstRc",
        "outputId": "04f06c0b-ebe5-4564-e250-fd4df8a093b5"
      },
      "source": [
        "# Definição do tipo de entidades pré existentes no modelo:\n",
        "\n",
        "print(\"PER:\", spacy.explain('PER'))\n",
        "print(\"LOC:\", spacy.explain('LOC'))\n",
        "print(\"ORG:\", spacy.explain('ORG'))\n",
        "print(\"MISC:\", spacy.explain('MISC'))"
      ],
      "execution_count": null,
      "outputs": [
        {
          "output_type": "stream",
          "text": [
            "PER: Named person or family.\n",
            "LOC: Non-GPE locations, mountain ranges, bodies of water\n",
            "ORG: Companies, agencies, institutions, etc.\n",
            "MISC: Miscellaneous entities, e.g. events, nationalities, products or works of art\n"
          ],
          "name": "stdout"
        }
      ]
    },
    {
      "cell_type": "markdown",
      "metadata": {
        "id": "A4k_b_FftgwL"
      },
      "source": [
        "# Treinando o modelo spaCy\n",
        "\n",
        "Como o modelo atual não identifica nem existe o tipo de entidade \n",
        "data, irei treinar o modelo para que ele passe a fazer isso"
      ]
    },
    {
      "cell_type": "code",
      "metadata": {
        "id": "tEYnRDEvs87Y"
      },
      "source": [
        "# Biblioteca que gera números pseudo-aleatórios:\n",
        "\n",
        "import random"
      ],
      "execution_count": null,
      "outputs": []
    },
    {
      "cell_type": "code",
      "metadata": {
        "id": "dy76UGtPuakt"
      },
      "source": [
        "# Dados para o treinamento: \n",
        "\n",
        "TRAIN_DATA = [\n",
        "    (\"Almira é uma ótima pessoa, gosto muito dela\", {\"entities\": [(0, 6, \"PER\")]}),\n",
        "    (\"João foi para Bahia nas férias\", {\"entities\": [(14, 19, \"LOC\"), (0, 4, \"PER\")]}),\n",
        "    (\"Carlos foi visitar João na casa de praia\", {\"entities\": [(0, 6, \"PER\"), (19, 23, \"PER\")]}),\n",
        "    (\"No meio do ano irei para São Paulo fazer mais um curso\", {\"entities\": [(25, 34, \"LOC\")]}),\n",
        "    (\"O sonho dela era ir para Austrália visitar seu irmão\", {\"entities\": [(25, 34, \"LOC\")]}),\n",
        "    (\"Em 15/07/1988 nasceu essa linda criança\", {\"entities\": [(3, 13, \"DATE\"), (18, 24, \"LOC\")]}),\n",
        "    (\"Data de prisão: 10/01/2018\", {\"entities\": [(16, 26, \"DATE\")]}),\n",
        "    (\"No dia 01/02/2016 foi decretada a sentença\", {\"entities\": [(7, 17, \"DATE\")]}),\n",
        "    (\"A data da festa foi 07/05/2018\", {\"entities\": [(20, 30, \"DATE\")]}),\n",
        "    (\"Dia 07/06/2020 choveu pela manhã\", {\"entities\": [(4, 14, \"DATE\")]}),\n",
        "    (\"Michael Jackson nasceu dia 29/08/1958\", {\"entities\": [(0, 15, \"PER\"), ( 27, 37, \"DATE\")]}),\n",
        "    (\"A viagem foi marcada para o dia 21/03/2021\", {\"entities\": [(32, 42, \"DATE\")]}),\n",
        "    (\"O casamento, que era dia 12/06/2020, foi adiado para o dia 20/07/2020\", {\"entities\": [(25, 35, \"DATE\"), (59, 68, \"DATE\")]}),\n",
        "    (\"Dia 21/04/2020 foi feriado\", {\"entities\": [(4, 14, \"DATE\")]}),\n",
        "    (\"A entrega foi realizada na manhã do dia 18/03/2020 \", {\"entities\": [(40, 50, \"DATE\")]}),\n",
        "    (\"Na noite do dia 17/05/2019 aconteceu um eclipse\", {\"entities\": [(16, 26, \"DATE\")]}),\n",
        "    (\"Fortaleza é a capital do Ceará\", {\"entities\": [(0, 9, \"LOC\"), (25, 30, \"LOC\")]})\n",
        "]"
      ],
      "execution_count": null,
      "outputs": []
    },
    {
      "cell_type": "code",
      "metadata": {
        "id": "ZGtorf9NuzW3"
      },
      "source": [
        "# Função para o treinamento:\n",
        "\n",
        "def train_spacy(data, n_iter):\n",
        "  TRAIN_DATA = data\n",
        "  \"\"\"Carrega o modelo, configura o pipeline e treina o reconhecedor da entidade.\"\"\"\n",
        "  nlp = pt_core_news_sm.load()  # Carrega um modelo do spaCy existente\n",
        "  print(\"Modelo carregado\")\n",
        "\n",
        "  # Criando os componentes internos do pipeline e adicionando-os ao pipeline\n",
        "  # nlp.create_pipe funciona para built-ins registrados com spaCy\n",
        "  if \"ner\" not in nlp.pipe_names:\n",
        "    ner = nlp.create_pipe(\"ner\")\n",
        "    nlp.add_pipe(ner, last=True)\n",
        "  # Caso contrário, obtenha-o para que possa adicionar as labels\n",
        "  else:\n",
        "    ner = nlp.get_pipe(\"ner\")\n",
        "\n",
        "  # Adicionando as labels\n",
        "  for _, annotations in TRAIN_DATA:\n",
        "    for ent in annotations.get('entities'):\n",
        "      ner.add_label(ent[2])\n",
        "\n",
        "  # Obtendo os nomes de outros pipes para desativá-los durante o treinamento\n",
        "  other_pipes = [pipe for pipe in nlp.pipe_names if pipe != 'ner']\n",
        "  with nlp.disable_pipes(*other_pipes):  # Treina somente NER\n",
        "    spacy.util.fix_random_seed()\n",
        "    optimizer = nlp.begin_training()\n",
        "    \n",
        "    for itn in range(n_iter):\n",
        "      random.seed(10)\n",
        "      random.shuffle(TRAIN_DATA)\n",
        "      losses = {}\n",
        "      \n",
        "      for texts, annotations in TRAIN_DATA:\n",
        "        nlp.update(\n",
        "            [texts],  # batch de textos\n",
        "            [annotations],  # batch de anotações\n",
        "            drop=0.2,  # dropout - dificulta a memorização de dados\n",
        "            sgd=optimizer,\n",
        "            losses=losses,\n",
        "        )\n",
        "      print(\"Losses\", losses)\n",
        "\n",
        "   # test the trained model\n",
        "    for text, _ in TRAIN_DATA:\n",
        "      doc = nlp(text)\n",
        "      print(\"Entities\", [(ent.text, ent.label_) for ent in doc.ents])\n",
        "      print(\"Tokens\", [(t.text, t.ent_type_) for t in doc])\n",
        "      print(\"\\n\")\n",
        "    return nlp"
      ],
      "execution_count": null,
      "outputs": []
    },
    {
      "cell_type": "code",
      "metadata": {
        "colab": {
          "base_uri": "https://localhost:8080/"
        },
        "id": "a0HQC2fSu6HJ",
        "outputId": "8b59f776-832b-4e7c-9e54-244506a923e0"
      },
      "source": [
        "# Variável que armazena o modelo depois do treinamento:\n",
        "\n",
        "nlp_ = train_spacy(data=TRAIN_DATA, n_iter=100)"
      ],
      "execution_count": null,
      "outputs": [
        {
          "output_type": "stream",
          "text": [
            "Modelo carregado\n",
            "Losses {'ner': 44.848168294811884}\n",
            "Losses {'ner': 53.822771509753174}\n",
            "Losses {'ner': 45.05330151818915}\n",
            "Losses {'ner': 59.20461495222331}\n",
            "Losses {'ner': 42.52364630985086}\n",
            "Losses {'ner': 33.25874292026583}\n",
            "Losses {'ner': 38.66124423672828}\n",
            "Losses {'ner': 38.29894106268598}\n",
            "Losses {'ner': 35.03439654203292}\n",
            "Losses {'ner': 42.950552726907574}\n",
            "Losses {'ner': 30.399363830495794}\n",
            "Losses {'ner': 37.85244673532191}\n",
            "Losses {'ner': 34.14475805168365}\n",
            "Losses {'ner': 38.298511604059556}\n",
            "Losses {'ner': 49.0249132029777}\n",
            "Losses {'ner': 32.56729737172343}\n",
            "Losses {'ner': 40.88467343847164}\n",
            "Losses {'ner': 39.09734799200854}\n",
            "Losses {'ner': 29.500817759488072}\n",
            "Losses {'ner': 45.56896432758805}\n",
            "Losses {'ner': 41.22303263011408}\n",
            "Losses {'ner': 46.74303617575271}\n",
            "Losses {'ner': 38.61291791441867}\n",
            "Losses {'ner': 35.30528266632605}\n",
            "Losses {'ner': 41.93925517790572}\n",
            "Losses {'ner': 49.190709596717134}\n",
            "Losses {'ner': 26.950738787956332}\n",
            "Losses {'ner': 35.135440551599885}\n",
            "Losses {'ner': 18.673389895508198}\n",
            "Losses {'ner': 38.434293134438484}\n",
            "Losses {'ner': 44.435974951556986}\n",
            "Losses {'ner': 32.391799888693626}\n",
            "Losses {'ner': 32.03978743307856}\n",
            "Losses {'ner': 25.670073696114986}\n",
            "Losses {'ner': 43.38470469738022}\n",
            "Losses {'ner': 43.949743576353704}\n",
            "Losses {'ner': 44.191544714098455}\n",
            "Losses {'ner': 29.767196029664508}\n",
            "Losses {'ner': 34.843945834732736}\n",
            "Losses {'ner': 39.709746836724946}\n",
            "Losses {'ner': 36.32045720756179}\n",
            "Losses {'ner': 31.122360161339078}\n",
            "Losses {'ner': 44.11179322476479}\n",
            "Losses {'ner': 34.680425299284984}\n",
            "Losses {'ner': 43.75426498686932}\n",
            "Losses {'ner': 37.58932164169277}\n",
            "Losses {'ner': 44.64280515709496}\n",
            "Losses {'ner': 32.81010943720719}\n",
            "Losses {'ner': 31.323242432453373}\n",
            "Losses {'ner': 38.813720795824565}\n",
            "Losses {'ner': 40.912727249919946}\n",
            "Losses {'ner': 42.315594772364044}\n",
            "Losses {'ner': 29.339800296063665}\n",
            "Losses {'ner': 36.09452379560881}\n",
            "Losses {'ner': 39.561266123832965}\n",
            "Losses {'ner': 41.29854155748316}\n",
            "Losses {'ner': 38.23832855341212}\n",
            "Losses {'ner': 27.09134045909469}\n",
            "Losses {'ner': 26.85742115642194}\n",
            "Losses {'ner': 36.37030668014016}\n",
            "Losses {'ner': 41.396643112699365}\n",
            "Losses {'ner': 24.853507804519985}\n",
            "Losses {'ner': 36.28322085509927}\n",
            "Losses {'ner': 34.31953759197538}\n",
            "Losses {'ner': 37.889060892338435}\n",
            "Losses {'ner': 37.64458179375073}\n",
            "Losses {'ner': 34.99693652011702}\n",
            "Losses {'ner': 37.93175136671482}\n",
            "Losses {'ner': 46.83560581198001}\n",
            "Losses {'ner': 23.359275799411574}\n",
            "Losses {'ner': 33.13497678346515}\n",
            "Losses {'ner': 40.539035709778155}\n",
            "Losses {'ner': 29.735084155986723}\n",
            "Losses {'ner': 28.566092250630337}\n",
            "Losses {'ner': 37.25740519094818}\n",
            "Losses {'ner': 25.671964477767627}\n",
            "Losses {'ner': 47.1057770944702}\n",
            "Losses {'ner': 39.99573705590962}\n",
            "Losses {'ner': 40.61368617684088}\n",
            "Losses {'ner': 26.704036207566684}\n",
            "Losses {'ner': 39.684748458827265}\n",
            "Losses {'ner': 47.443711208390624}\n",
            "Losses {'ner': 31.34708071897032}\n",
            "Losses {'ner': 38.73641636157935}\n",
            "Losses {'ner': 25.96086072985939}\n",
            "Losses {'ner': 32.865029801769296}\n",
            "Losses {'ner': 25.67303754217074}\n",
            "Losses {'ner': 31.784241446644465}\n",
            "Losses {'ner': 31.61041068205334}\n",
            "Losses {'ner': 55.41598723328683}\n",
            "Losses {'ner': 38.71261739421991}\n",
            "Losses {'ner': 31.460442154521253}\n",
            "Losses {'ner': 34.006505958264434}\n",
            "Losses {'ner': 36.49828489984271}\n",
            "Losses {'ner': 49.055637968991185}\n",
            "Losses {'ner': 52.74197357338784}\n",
            "Losses {'ner': 37.10272746816378}\n",
            "Losses {'ner': 34.702295809595135}\n",
            "Losses {'ner': 42.23299006738777}\n",
            "Losses {'ner': 25.61141136560751}\n",
            "Entities [('10/01/2018', 'DATE')]\n",
            "Tokens [('Data', ''), ('de', ''), ('prisão', ''), (':', ''), ('10/01/2018', 'DATE')]\n",
            "\n",
            "\n",
            "Entities [('Almira', 'PER')]\n",
            "Tokens [('Almira', 'PER'), ('é', ''), ('uma', ''), ('ótima', ''), ('pessoa', ''), (',', ''), ('gosto', ''), ('muito', ''), ('d', ''), ('ela', '')]\n",
            "\n",
            "\n",
            "Entities [('18/03/2020', 'DATE')]\n",
            "Tokens [('A', ''), ('entrega', ''), ('foi', ''), ('realizada', ''), ('na', ''), ('manhã', ''), ('do', ''), ('dia', ''), ('18/03/2020', 'DATE')]\n",
            "\n",
            "\n",
            "Entities [('Austrália', 'LOC')]\n",
            "Tokens [('O', ''), ('sonho', ''), ('d', ''), ('ela', ''), ('era', ''), ('ir', ''), ('para', ''), ('Austrália', 'LOC'), ('visitar', ''), ('seu', ''), ('irmão', '')]\n",
            "\n",
            "\n",
            "Entities [('15/07/1988', 'DATE')]\n",
            "Tokens [('Em', ''), ('15/07/1988', 'DATE'), ('nasceu', ''), ('essa', ''), ('linda', ''), ('criança', '')]\n",
            "\n",
            "\n",
            "Entities [('Fortaleza', 'LOC'), ('Ceará', 'LOC')]\n",
            "Tokens [('Fortaleza', 'LOC'), ('é', ''), ('a', ''), ('capital', ''), ('do', ''), ('Ceará', 'LOC')]\n",
            "\n",
            "\n",
            "Entities [('01/02/2016', 'DATE')]\n",
            "Tokens [('No', ''), ('dia', ''), ('01/02/2016', 'DATE'), ('foi', ''), ('decretada', ''), ('a', ''), ('sentença', '')]\n",
            "\n",
            "\n",
            "Entities [('Michael Jackson', 'PER'), ('29/08/1958', 'DATE')]\n",
            "Tokens [('Michael', 'PER'), ('Jackson', 'PER'), ('nasceu', ''), ('dia', ''), ('29/08/1958', 'DATE')]\n",
            "\n",
            "\n",
            "Entities [('João', 'PER'), ('Bahia', 'LOC')]\n",
            "Tokens [('João', 'PER'), ('foi', ''), ('para', ''), ('Bahia', 'LOC'), ('nas', ''), ('férias', '')]\n",
            "\n",
            "\n",
            "Entities [('17/05/2019', 'DATE')]\n",
            "Tokens [('Na', ''), ('noite', ''), ('do', ''), ('dia', ''), ('17/05/2019', 'DATE'), ('aconteceu', ''), ('um', ''), ('eclipse', '')]\n",
            "\n",
            "\n",
            "Entities [('21/04/2020', 'DATE')]\n",
            "Tokens [('Dia', ''), ('21/04/2020', 'DATE'), ('foi', ''), ('feriado', '')]\n",
            "\n",
            "\n",
            "Entities [('07/05/2018', 'DATE')]\n",
            "Tokens [('A', ''), ('data', ''), ('da', ''), ('festa', ''), ('foi', ''), ('07/05/2018', 'DATE')]\n",
            "\n",
            "\n",
            "Entities [('Carlos', 'PER'), ('João', 'PER')]\n",
            "Tokens [('Carlos', 'PER'), ('foi', ''), ('visitar', ''), ('João', 'PER'), ('na', ''), ('casa', ''), ('de', ''), ('praia', '')]\n",
            "\n",
            "\n",
            "Entities [('São Paulo', 'LOC')]\n",
            "Tokens [('No', ''), ('meio', ''), ('do', ''), ('ano', ''), ('irei', ''), ('para', ''), ('São', 'LOC'), ('Paulo', 'LOC'), ('fazer', ''), ('mais', ''), ('um', ''), ('curso', '')]\n",
            "\n",
            "\n",
            "Entities [('07/06/2020', 'DATE')]\n",
            "Tokens [('Dia', ''), ('07/06/2020', 'DATE'), ('choveu', ''), ('pela', ''), ('manhã', '')]\n",
            "\n",
            "\n",
            "Entities [('21/03/2021', 'DATE')]\n",
            "Tokens [('A', ''), ('viagem', ''), ('foi', ''), ('marcada', ''), ('para', ''), ('o', ''), ('dia', ''), ('21/03/2021', 'DATE')]\n",
            "\n",
            "\n",
            "Entities [('12/06/2020', 'DATE'), ('20/07/2020', 'DATE')]\n",
            "Tokens [('O', ''), ('casamento', ''), (',', ''), ('que', ''), ('era', ''), ('dia', ''), ('12/06/2020', 'DATE'), (',', ''), ('foi', ''), ('adiado', ''), ('para', ''), ('o', ''), ('dia', ''), ('20/07/2020', 'DATE')]\n",
            "\n",
            "\n"
          ],
          "name": "stdout"
        }
      ]
    },
    {
      "cell_type": "markdown",
      "metadata": {
        "id": "9JDowa5tvNcw"
      },
      "source": [
        "# Testando o modelo depois do treinamento"
      ]
    },
    {
      "cell_type": "code",
      "metadata": {
        "colab": {
          "base_uri": "https://localhost:8080/",
          "height": 52
        },
        "id": "vNCHyN-UvW-8",
        "outputId": "762fd667-e078-4d11-c305-c100752bda03"
      },
      "source": [
        "text = nlp_(\"Ana nasceu no dia 18/06/2018 em Brasília\")\n",
        "spacy.displacy.render(text, style='ent', jupyter=True)"
      ],
      "execution_count": null,
      "outputs": [
        {
          "output_type": "display_data",
          "data": {
            "text/html": [
              "<div class=\"entities\" style=\"line-height: 2.5; direction: ltr\">\n",
              "<mark class=\"entity\" style=\"background: #ddd; padding: 0.45em 0.6em; margin: 0 0.25em; line-height: 1; border-radius: 0.35em;\">\n",
              "    Ana\n",
              "    <span style=\"font-size: 0.8em; font-weight: bold; line-height: 1; border-radius: 0.35em; text-transform: uppercase; vertical-align: middle; margin-left: 0.5rem\">PER</span>\n",
              "</mark>\n",
              " nasceu no dia \n",
              "<mark class=\"entity\" style=\"background: #bfe1d9; padding: 0.45em 0.6em; margin: 0 0.25em; line-height: 1; border-radius: 0.35em;\">\n",
              "    18/06/2018\n",
              "    <span style=\"font-size: 0.8em; font-weight: bold; line-height: 1; border-radius: 0.35em; text-transform: uppercase; vertical-align: middle; margin-left: 0.5rem\">DATE</span>\n",
              "</mark>\n",
              " em \n",
              "<mark class=\"entity\" style=\"background: #ff9561; padding: 0.45em 0.6em; margin: 0 0.25em; line-height: 1; border-radius: 0.35em;\">\n",
              "    Brasília\n",
              "    <span style=\"font-size: 0.8em; font-weight: bold; line-height: 1; border-radius: 0.35em; text-transform: uppercase; vertical-align: middle; margin-left: 0.5rem\">LOC</span>\n",
              "</mark>\n",
              "</div>"
            ],
            "text/plain": [
              "<IPython.core.display.HTML object>"
            ]
          },
          "metadata": {
            "tags": []
          }
        }
      ]
    },
    {
      "cell_type": "code",
      "metadata": {
        "colab": {
          "base_uri": "https://localhost:8080/"
        },
        "id": "ko-iZtEzvfUV",
        "outputId": "7206c3b7-3a0a-45bc-df5a-f8235e2d4016"
      },
      "source": [
        "for entidade in text.ents:\n",
        "  print(entidade.text, entidade.label_)"
      ],
      "execution_count": null,
      "outputs": [
        {
          "output_type": "stream",
          "text": [
            "Ana PER\n",
            "18/06/2018 DATE\n",
            "Brasília LOC\n"
          ],
          "name": "stdout"
        }
      ]
    },
    {
      "cell_type": "markdown",
      "metadata": {
        "id": "XP8exTjpvqXV"
      },
      "source": [
        "**MODELO TREINADO E FUNCIONANDO!!!**"
      ]
    }
  ]
}