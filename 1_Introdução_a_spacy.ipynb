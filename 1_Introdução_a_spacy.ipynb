{
  "nbformat": 4,
  "nbformat_minor": 0,
  "metadata": {
    "colab": {
      "name": "1- Introdução a spacy.ipynb",
      "provenance": [],
      "collapsed_sections": [],
      "include_colab_link": true
    },
    "kernelspec": {
      "name": "python3",
      "display_name": "Python 3"
    }
  },
  "cells": [
    {
      "cell_type": "markdown",
      "metadata": {
        "id": "view-in-github",
        "colab_type": "text"
      },
      "source": [
        "<a href=\"https://colab.research.google.com/github/flaviagaia/SpaCy/blob/main/1_Introdu%C3%A7%C3%A3o_a_spacy.ipynb\" target=\"_parent\"><img src=\"https://colab.research.google.com/assets/colab-badge.svg\" alt=\"Open In Colab\"/></a>"
      ]
    },
    {
      "cell_type": "markdown",
      "metadata": {
        "id": "RPuBqCCFCgvR"
      },
      "source": [
        "# Introdução ao spaCy"
      ]
    },
    {
      "cell_type": "markdown",
      "metadata": {
        "id": "DMvt1D5QESDK"
      },
      "source": [
        "# Etapa 1: Instalação do spaCy"
      ]
    },
    {
      "cell_type": "code",
      "metadata": {
        "id": "bGBJTJK-L7uV",
        "colab": {
          "base_uri": "https://localhost:8080/"
        },
        "outputId": "1222ed21-b337-4fcd-cd76-5a345f31a221"
      },
      "source": [
        "#!pip install spacy --upgrade\n",
        "!pip install spacy==2.2.3"
      ],
      "execution_count": null,
      "outputs": [
        {
          "output_type": "stream",
          "text": [
            "Collecting spacy==2.2.3\n",
            "\u001b[?25l  Downloading https://files.pythonhosted.org/packages/91/76/1f30264c433f9c3c84171fa03f4b6bb5f3303df7781d21554d25045873f4/spacy-2.2.3-cp37-cp37m-manylinux1_x86_64.whl (10.4MB)\n",
            "\u001b[K     |████████████████████████████████| 10.4MB 10.3MB/s \n",
            "\u001b[?25hRequirement already satisfied: cymem<2.1.0,>=2.0.2 in /usr/local/lib/python3.7/dist-packages (from spacy==2.2.3) (2.0.5)\n",
            "Requirement already satisfied: wasabi<1.1.0,>=0.4.0 in /usr/local/lib/python3.7/dist-packages (from spacy==2.2.3) (0.8.2)\n",
            "Requirement already satisfied: requests<3.0.0,>=2.13.0 in /usr/local/lib/python3.7/dist-packages (from spacy==2.2.3) (2.23.0)\n",
            "Requirement already satisfied: setuptools in /usr/local/lib/python3.7/dist-packages (from spacy==2.2.3) (57.0.0)\n",
            "Requirement already satisfied: srsly<1.1.0,>=0.1.0 in /usr/local/lib/python3.7/dist-packages (from spacy==2.2.3) (1.0.5)\n",
            "Requirement already satisfied: plac<1.2.0,>=0.9.6 in /usr/local/lib/python3.7/dist-packages (from spacy==2.2.3) (1.1.3)\n",
            "Requirement already satisfied: numpy>=1.15.0 in /usr/local/lib/python3.7/dist-packages (from spacy==2.2.3) (1.19.5)\n",
            "Requirement already satisfied: murmurhash<1.1.0,>=0.28.0 in /usr/local/lib/python3.7/dist-packages (from spacy==2.2.3) (1.0.5)\n",
            "Collecting thinc<7.4.0,>=7.3.0\n",
            "\u001b[?25l  Downloading https://files.pythonhosted.org/packages/32/53/d11d2faa6921e55c37ad2cd56b0866a9e6df647fb547cfb69a50059d759c/thinc-7.3.1-cp37-cp37m-manylinux1_x86_64.whl (2.2MB)\n",
            "\u001b[K     |████████████████████████████████| 2.2MB 53.4MB/s \n",
            "\u001b[?25hRequirement already satisfied: preshed<3.1.0,>=3.0.2 in /usr/local/lib/python3.7/dist-packages (from spacy==2.2.3) (3.0.5)\n",
            "Requirement already satisfied: blis<0.5.0,>=0.4.0 in /usr/local/lib/python3.7/dist-packages (from spacy==2.2.3) (0.4.1)\n",
            "Requirement already satisfied: catalogue<1.1.0,>=0.0.7 in /usr/local/lib/python3.7/dist-packages (from spacy==2.2.3) (1.0.0)\n",
            "Requirement already satisfied: certifi>=2017.4.17 in /usr/local/lib/python3.7/dist-packages (from requests<3.0.0,>=2.13.0->spacy==2.2.3) (2021.5.30)\n",
            "Requirement already satisfied: chardet<4,>=3.0.2 in /usr/local/lib/python3.7/dist-packages (from requests<3.0.0,>=2.13.0->spacy==2.2.3) (3.0.4)\n",
            "Requirement already satisfied: urllib3!=1.25.0,!=1.25.1,<1.26,>=1.21.1 in /usr/local/lib/python3.7/dist-packages (from requests<3.0.0,>=2.13.0->spacy==2.2.3) (1.24.3)\n",
            "Requirement already satisfied: idna<3,>=2.5 in /usr/local/lib/python3.7/dist-packages (from requests<3.0.0,>=2.13.0->spacy==2.2.3) (2.10)\n",
            "Requirement already satisfied: tqdm<5.0.0,>=4.10.0 in /usr/local/lib/python3.7/dist-packages (from thinc<7.4.0,>=7.3.0->spacy==2.2.3) (4.41.1)\n",
            "Requirement already satisfied: importlib-metadata>=0.20; python_version < \"3.8\" in /usr/local/lib/python3.7/dist-packages (from catalogue<1.1.0,>=0.0.7->spacy==2.2.3) (4.5.0)\n",
            "Requirement already satisfied: typing-extensions>=3.6.4; python_version < \"3.8\" in /usr/local/lib/python3.7/dist-packages (from importlib-metadata>=0.20; python_version < \"3.8\"->catalogue<1.1.0,>=0.0.7->spacy==2.2.3) (3.7.4.3)\n",
            "Requirement already satisfied: zipp>=0.5 in /usr/local/lib/python3.7/dist-packages (from importlib-metadata>=0.20; python_version < \"3.8\"->catalogue<1.1.0,>=0.0.7->spacy==2.2.3) (3.4.1)\n",
            "Installing collected packages: thinc, spacy\n",
            "  Found existing installation: thinc 7.4.0\n",
            "    Uninstalling thinc-7.4.0:\n",
            "      Successfully uninstalled thinc-7.4.0\n",
            "  Found existing installation: spacy 2.2.4\n",
            "    Uninstalling spacy-2.2.4:\n",
            "      Successfully uninstalled spacy-2.2.4\n",
            "Successfully installed spacy-2.2.3 thinc-7.3.1\n"
          ],
          "name": "stdout"
        }
      ]
    },
    {
      "cell_type": "code",
      "metadata": {
        "id": "TXvCmKxLMdoF",
        "colab": {
          "base_uri": "https://localhost:8080/"
        },
        "outputId": "0fc2700a-0d5b-45c9-a322-474975f7d8fc"
      },
      "source": [
        "!python -m spacy download pt_core_news_sm"
      ],
      "execution_count": null,
      "outputs": [
        {
          "output_type": "stream",
          "text": [
            "Requirement already satisfied: pt_core_news_sm==2.2.5 from https://github.com/explosion/spacy-models/releases/download/pt_core_news_sm-2.2.5/pt_core_news_sm-2.2.5.tar.gz#egg=pt_core_news_sm==2.2.5 in /usr/local/lib/python3.7/dist-packages (2.2.5)\n",
            "Requirement already satisfied: spacy>=2.2.2 in /usr/local/lib/python3.7/dist-packages (from pt_core_news_sm==2.2.5) (2.2.3)\n",
            "Requirement already satisfied: requests<3.0.0,>=2.13.0 in /usr/local/lib/python3.7/dist-packages (from spacy>=2.2.2->pt_core_news_sm==2.2.5) (2.23.0)\n",
            "Requirement already satisfied: wasabi<1.1.0,>=0.4.0 in /usr/local/lib/python3.7/dist-packages (from spacy>=2.2.2->pt_core_news_sm==2.2.5) (0.8.2)\n",
            "Requirement already satisfied: srsly<1.1.0,>=0.1.0 in /usr/local/lib/python3.7/dist-packages (from spacy>=2.2.2->pt_core_news_sm==2.2.5) (1.0.5)\n",
            "Requirement already satisfied: setuptools in /usr/local/lib/python3.7/dist-packages (from spacy>=2.2.2->pt_core_news_sm==2.2.5) (57.0.0)\n",
            "Requirement already satisfied: catalogue<1.1.0,>=0.0.7 in /usr/local/lib/python3.7/dist-packages (from spacy>=2.2.2->pt_core_news_sm==2.2.5) (1.0.0)\n",
            "Requirement already satisfied: murmurhash<1.1.0,>=0.28.0 in /usr/local/lib/python3.7/dist-packages (from spacy>=2.2.2->pt_core_news_sm==2.2.5) (1.0.5)\n",
            "Requirement already satisfied: blis<0.5.0,>=0.4.0 in /usr/local/lib/python3.7/dist-packages (from spacy>=2.2.2->pt_core_news_sm==2.2.5) (0.4.1)\n",
            "Requirement already satisfied: plac<1.2.0,>=0.9.6 in /usr/local/lib/python3.7/dist-packages (from spacy>=2.2.2->pt_core_news_sm==2.2.5) (1.1.3)\n",
            "Requirement already satisfied: numpy>=1.15.0 in /usr/local/lib/python3.7/dist-packages (from spacy>=2.2.2->pt_core_news_sm==2.2.5) (1.19.5)\n",
            "Requirement already satisfied: thinc<7.4.0,>=7.3.0 in /usr/local/lib/python3.7/dist-packages (from spacy>=2.2.2->pt_core_news_sm==2.2.5) (7.3.1)\n",
            "Requirement already satisfied: preshed<3.1.0,>=3.0.2 in /usr/local/lib/python3.7/dist-packages (from spacy>=2.2.2->pt_core_news_sm==2.2.5) (3.0.5)\n",
            "Requirement already satisfied: cymem<2.1.0,>=2.0.2 in /usr/local/lib/python3.7/dist-packages (from spacy>=2.2.2->pt_core_news_sm==2.2.5) (2.0.5)\n",
            "Requirement already satisfied: certifi>=2017.4.17 in /usr/local/lib/python3.7/dist-packages (from requests<3.0.0,>=2.13.0->spacy>=2.2.2->pt_core_news_sm==2.2.5) (2021.5.30)\n",
            "Requirement already satisfied: chardet<4,>=3.0.2 in /usr/local/lib/python3.7/dist-packages (from requests<3.0.0,>=2.13.0->spacy>=2.2.2->pt_core_news_sm==2.2.5) (3.0.4)\n",
            "Requirement already satisfied: urllib3!=1.25.0,!=1.25.1,<1.26,>=1.21.1 in /usr/local/lib/python3.7/dist-packages (from requests<3.0.0,>=2.13.0->spacy>=2.2.2->pt_core_news_sm==2.2.5) (1.24.3)\n",
            "Requirement already satisfied: idna<3,>=2.5 in /usr/local/lib/python3.7/dist-packages (from requests<3.0.0,>=2.13.0->spacy>=2.2.2->pt_core_news_sm==2.2.5) (2.10)\n",
            "Requirement already satisfied: importlib-metadata>=0.20; python_version < \"3.8\" in /usr/local/lib/python3.7/dist-packages (from catalogue<1.1.0,>=0.0.7->spacy>=2.2.2->pt_core_news_sm==2.2.5) (4.5.0)\n",
            "Requirement already satisfied: tqdm<5.0.0,>=4.10.0 in /usr/local/lib/python3.7/dist-packages (from thinc<7.4.0,>=7.3.0->spacy>=2.2.2->pt_core_news_sm==2.2.5) (4.41.1)\n",
            "Requirement already satisfied: zipp>=0.5 in /usr/local/lib/python3.7/dist-packages (from importlib-metadata>=0.20; python_version < \"3.8\"->catalogue<1.1.0,>=0.0.7->spacy>=2.2.2->pt_core_news_sm==2.2.5) (3.4.1)\n",
            "Requirement already satisfied: typing-extensions>=3.6.4; python_version < \"3.8\" in /usr/local/lib/python3.7/dist-packages (from importlib-metadata>=0.20; python_version < \"3.8\"->catalogue<1.1.0,>=0.0.7->spacy>=2.2.2->pt_core_news_sm==2.2.5) (3.7.4.3)\n",
            "\u001b[38;5;2m✔ Download and installation successful\u001b[0m\n",
            "You can now load the model via spacy.load('pt_core_news_sm')\n"
          ],
          "name": "stdout"
        }
      ]
    },
    {
      "cell_type": "markdown",
      "metadata": {
        "id": "bJ2s3MS6EXBe"
      },
      "source": [
        "# Etapa 2: Marcação POS\n",
        "\n",
        "- POS (part-of-speech) atribui para as palavras partes da fala, como substantivos, adjetivos, verbos\n",
        "- Importante para a detecção de entidades no texto, pois primeiro é necessário saber o que o texto contém\n",
        "- Lista de tokens: https://spacy.io/api/annotation#pos-tagging\n",
        "- Português: https://www.sketchengine.eu/portuguese-freeling-part-of-speech-tagset/"
      ]
    },
    {
      "cell_type": "code",
      "metadata": {
        "id": "0T8hIclJNV1b"
      },
      "source": [
        "# Carregue o modelo\n",
        "import spacy\n",
        "import pt_core_news_sm\n",
        "\n",
        "pln = pt_core_news_sm.load()"
      ],
      "execution_count": null,
      "outputs": []
    },
    {
      "cell_type": "code",
      "metadata": {
        "id": "4pZAEQVPNku8"
      },
      "source": [
        "documento = pln('Estou aprendendo processamento de linguagem natural')"
      ],
      "execution_count": null,
      "outputs": []
    },
    {
      "cell_type": "code",
      "metadata": {
        "id": "Fg7TeXodNz4e",
        "colab": {
          "base_uri": "https://localhost:8080/"
        },
        "outputId": "c1f1b7bf-817f-43fb-822b-862fe2e9b93e"
      },
      "source": [
        "for token in documento:\n",
        "  print(token.text, token.pos_)"
      ],
      "execution_count": null,
      "outputs": [
        {
          "output_type": "stream",
          "text": [
            "Estou AUX\n",
            "aprendendo VERB\n",
            "processamento NOUN\n",
            "de ADP\n",
            "linguagem NOUN\n",
            "natural ADJ\n"
          ],
          "name": "stdout"
        }
      ]
    },
    {
      "cell_type": "markdown",
      "metadata": {
        "id": "eGd1tq7mLv_M"
      },
      "source": [
        "## Legenda \n",
        "\n",
        "- lemma: raiz da palavra\n",
        "- pos: parte da fala\n",
        "- tag: informações morfológicas, como se o verbo está no passado\n",
        "- dep: dependência sintática\n",
        "- shape: formato (maiúsculo, minúsculo, dígitos)\n",
        "- alpha: se é alfabético\n",
        "- stop: se é stopword"
      ]
    },
    {
      "cell_type": "code",
      "metadata": {
        "id": "0sIR8by8Osd3",
        "colab": {
          "base_uri": "https://localhost:8080/"
        },
        "outputId": "28d71d2a-38d1-47ce-a6aa-316f42ebdd48"
      },
      "source": [
        "for token in documento:\n",
        "  print(token.text, token.lemma_, token.pos_, token.tag_, token.dep_, \n",
        "        token.shape_, token.is_alpha, token.is_stop)"
      ],
      "execution_count": null,
      "outputs": [
        {
          "output_type": "stream",
          "text": [
            "Estou Estou AUX <aux>|V|PR|1S|IND|@FS-STA aux Xxxxx True True\n",
            "aprendendo aprender VERB <mv>|V|GER|@ICL-AUX< ROOT xxxx True False\n",
            "processamento processamento NOUN <np-idf>|N|M|S|@<ACC obj xxxx True False\n",
            "de de ADP PRP|@N< case xx True True\n",
            "linguagem linguagem NOUN <np-idf>|N|F|S|@P< nmod xxxx True False\n",
            "natural natural ADJ ADJ|F|S|@N< amod xxxx True False\n"
          ],
          "name": "stdout"
        }
      ]
    },
    {
      "cell_type": "code",
      "metadata": {
        "id": "vHNRWL_KPabJ"
      },
      "source": [
        "for token in documento:\n",
        "  if token.pos_ == 'PROPN':\n",
        "    print(token.text)"
      ],
      "execution_count": null,
      "outputs": []
    },
    {
      "cell_type": "markdown",
      "metadata": {
        "id": "DctwAtI_NLym"
      },
      "source": [
        "# Etapa 3: Lematização e stemização\n",
        "\n",
        "- Lematização: \"Lema\" de uma palavra de acordo com seu significado no dicionário - palavra base (análise vocabular e morfológica)\n",
        "- Stemização: Extrair o radical das palavras"
      ]
    },
    {
      "cell_type": "code",
      "metadata": {
        "id": "NVZ0_xLUQGjb",
        "colab": {
          "base_uri": "https://localhost:8080/"
        },
        "outputId": "5bde5242-4b7d-47cd-fd5b-83b7b17cafe4"
      },
      "source": [
        "for token in documento:\n",
        "  print(token.text, token.lemma_)"
      ],
      "execution_count": null,
      "outputs": [
        {
          "output_type": "stream",
          "text": [
            "Estou Estou\n",
            "aprendendo aprender\n",
            "processamento processamento\n",
            "de de\n",
            "linguagem linguagem\n",
            "natural natural\n"
          ],
          "name": "stdout"
        }
      ]
    },
    {
      "cell_type": "code",
      "metadata": {
        "id": "16bshyFfQSF2",
        "colab": {
          "base_uri": "https://localhost:8080/"
        },
        "outputId": "1d223efc-1b3a-4e66-f99f-0c9ac93183d2"
      },
      "source": [
        "doc = pln('encontrei encontraram encontrarão encontrariam cursando curso cursei')\n",
        "[token.lemma_ for token in doc]"
      ],
      "execution_count": null,
      "outputs": [
        {
          "output_type": "execute_result",
          "data": {
            "text/plain": [
              "['encontrar',\n",
              " 'encontrar',\n",
              " 'encontrar',\n",
              " 'encontrar',\n",
              " 'cursar',\n",
              " 'cursar',\n",
              " 'cursar']"
            ]
          },
          "metadata": {
            "tags": []
          },
          "execution_count": 17
        }
      ]
    },
    {
      "cell_type": "markdown",
      "metadata": {
        "id": "zVz8tGTiZN6C"
      },
      "source": [
        "## Comparação stemização (NLTK) x lematização (spaCy)"
      ]
    },
    {
      "cell_type": "code",
      "metadata": {
        "id": "Ww8qgIxXQt7c",
        "colab": {
          "base_uri": "https://localhost:8080/"
        },
        "outputId": "dc1ad53b-8208-4065-b4f9-3b5ca3bb5fb9"
      },
      "source": [
        "!pip install nltk --upgrade"
      ],
      "execution_count": null,
      "outputs": [
        {
          "output_type": "stream",
          "text": [
            "Collecting nltk\n",
            "\u001b[?25l  Downloading https://files.pythonhosted.org/packages/5e/37/9532ddd4b1bbb619333d5708aaad9bf1742f051a664c3c6fa6632a105fd8/nltk-3.6.2-py3-none-any.whl (1.5MB)\n",
            "\u001b[K     |████████████████████████████████| 1.5MB 14.8MB/s \n",
            "\u001b[?25hRequirement already satisfied, skipping upgrade: tqdm in /usr/local/lib/python3.7/dist-packages (from nltk) (4.41.1)\n",
            "Requirement already satisfied, skipping upgrade: regex in /usr/local/lib/python3.7/dist-packages (from nltk) (2019.12.20)\n",
            "Requirement already satisfied, skipping upgrade: click in /usr/local/lib/python3.7/dist-packages (from nltk) (7.1.2)\n",
            "Requirement already satisfied, skipping upgrade: joblib in /usr/local/lib/python3.7/dist-packages (from nltk) (1.0.1)\n",
            "Installing collected packages: nltk\n",
            "  Found existing installation: nltk 3.2.5\n",
            "    Uninstalling nltk-3.2.5:\n",
            "      Successfully uninstalled nltk-3.2.5\n",
            "Successfully installed nltk-3.6.2\n"
          ],
          "name": "stdout"
        }
      ]
    },
    {
      "cell_type": "code",
      "metadata": {
        "id": "A8G04U93QpbA",
        "colab": {
          "base_uri": "https://localhost:8080/"
        },
        "outputId": "8dfbc22e-c7a2-46c2-fd3f-e799d95e1707"
      },
      "source": [
        "import nltk\n",
        "nltk.download('rslp')"
      ],
      "execution_count": null,
      "outputs": [
        {
          "output_type": "stream",
          "text": [
            "[nltk_data] Downloading package rslp to /root/nltk_data...\n",
            "[nltk_data]   Unzipping stemmers/rslp.zip.\n"
          ],
          "name": "stderr"
        },
        {
          "output_type": "execute_result",
          "data": {
            "text/plain": [
              "True"
            ]
          },
          "metadata": {
            "tags": []
          },
          "execution_count": 19
        }
      ]
    },
    {
      "cell_type": "code",
      "metadata": {
        "id": "Levz2Ci8Q5hm",
        "colab": {
          "base_uri": "https://localhost:8080/",
          "height": 35
        },
        "outputId": "2133dda0-ef00-4940-d619-0d10c4cb2e1c"
      },
      "source": [
        "stemmer = nltk.stem.RSLPStemmer()\n",
        "stemmer.stem('aprender')"
      ],
      "execution_count": null,
      "outputs": [
        {
          "output_type": "execute_result",
          "data": {
            "application/vnd.google.colaboratory.intrinsic+json": {
              "type": "string"
            },
            "text/plain": [
              "'aprend'"
            ]
          },
          "metadata": {
            "tags": []
          },
          "execution_count": 20
        }
      ]
    },
    {
      "cell_type": "code",
      "metadata": {
        "id": "DWeL9UDURmEY",
        "colab": {
          "base_uri": "https://localhost:8080/"
        },
        "outputId": "3ade6df9-50f3-411f-a77b-9d13d3a84914"
      },
      "source": [
        "for token in documento:\n",
        "  print(token.text, token.lemma_, stemmer.stem(token.text))"
      ],
      "execution_count": null,
      "outputs": [
        {
          "output_type": "stream",
          "text": [
            "Estou Estou est\n",
            "aprendendo aprender aprend\n",
            "processamento processamento process\n",
            "de de de\n",
            "linguagem linguagem lingu\n",
            "natural natural natur\n"
          ],
          "name": "stdout"
        }
      ]
    },
    {
      "cell_type": "markdown",
      "metadata": {
        "id": "PtacHcwVZ4PH"
      },
      "source": [
        "# Etapa 4: Reconhecimento de entidades nomeadas\n",
        "\n",
        "- NER (Named-Entity Recognition)\n",
        "- Encontrar e classificar entidades no texto, dependendo da base de dados que foi utilizada para o treinamento (pessoa, localização, empresa, numéricos)\n",
        "- Usado em chatbots para saber o assunto falado\n",
        "- Siglas: https://spacy.io/api/annotation#named-entities"
      ]
    },
    {
      "cell_type": "code",
      "metadata": {
        "id": "mA_awKp-aq9j"
      },
      "source": [
        "texto = 'A IBM é uma empresa dos Estados Unidos voltada para a área de informática. Sua sede no Brasil fica em São Paulo e a receita em 2018 foi de aproximadamente 320 bilhões de reais'"
      ],
      "execution_count": null,
      "outputs": []
    },
    {
      "cell_type": "code",
      "metadata": {
        "id": "ldfPLqpVTlbq"
      },
      "source": [
        "documento = pln(texto)"
      ],
      "execution_count": null,
      "outputs": []
    },
    {
      "cell_type": "code",
      "metadata": {
        "id": "-ir1stmgTsbW",
        "colab": {
          "base_uri": "https://localhost:8080/"
        },
        "outputId": "05f807f5-de46-4a5a-fa03-54b644a3b011"
      },
      "source": [
        "for entidade in documento.ents:\n",
        "  print(entidade.text, entidade.label_)"
      ],
      "execution_count": null,
      "outputs": [
        {
          "output_type": "stream",
          "text": [
            "IBM ORG\n",
            "Estados Unidos LOC\n",
            "Brasil LOC\n",
            "São Paulo LOC\n"
          ],
          "name": "stdout"
        }
      ]
    },
    {
      "cell_type": "code",
      "metadata": {
        "id": "FfXi2DsYUIU0",
        "colab": {
          "base_uri": "https://localhost:8080/",
          "height": 52
        },
        "outputId": "4e2d60d3-8708-4ff5-ea7b-f37b56b548ad"
      },
      "source": [
        "from spacy import displacy\n",
        "displacy.render(documento, style = 'ent', jupyter = True)"
      ],
      "execution_count": null,
      "outputs": [
        {
          "output_type": "display_data",
          "data": {
            "text/html": [
              "<div class=\"entities\" style=\"line-height: 2.5; direction: ltr\">A \n",
              "<mark class=\"entity\" style=\"background: #7aecec; padding: 0.45em 0.6em; margin: 0 0.25em; line-height: 1; border-radius: 0.35em;\">\n",
              "    IBM\n",
              "    <span style=\"font-size: 0.8em; font-weight: bold; line-height: 1; border-radius: 0.35em; text-transform: uppercase; vertical-align: middle; margin-left: 0.5rem\">ORG</span>\n",
              "</mark>\n",
              " é uma empresa dos \n",
              "<mark class=\"entity\" style=\"background: #ff9561; padding: 0.45em 0.6em; margin: 0 0.25em; line-height: 1; border-radius: 0.35em;\">\n",
              "    Estados Unidos\n",
              "    <span style=\"font-size: 0.8em; font-weight: bold; line-height: 1; border-radius: 0.35em; text-transform: uppercase; vertical-align: middle; margin-left: 0.5rem\">LOC</span>\n",
              "</mark>\n",
              " voltada para a área de informática. Sua sede no \n",
              "<mark class=\"entity\" style=\"background: #ff9561; padding: 0.45em 0.6em; margin: 0 0.25em; line-height: 1; border-radius: 0.35em;\">\n",
              "    Brasil\n",
              "    <span style=\"font-size: 0.8em; font-weight: bold; line-height: 1; border-radius: 0.35em; text-transform: uppercase; vertical-align: middle; margin-left: 0.5rem\">LOC</span>\n",
              "</mark>\n",
              " fica em \n",
              "<mark class=\"entity\" style=\"background: #ff9561; padding: 0.45em 0.6em; margin: 0 0.25em; line-height: 1; border-radius: 0.35em;\">\n",
              "    São Paulo\n",
              "    <span style=\"font-size: 0.8em; font-weight: bold; line-height: 1; border-radius: 0.35em; text-transform: uppercase; vertical-align: middle; margin-left: 0.5rem\">LOC</span>\n",
              "</mark>\n",
              " e a receita em 2018 foi de aproximadamente 320 bilhões de reais</div>"
            ],
            "text/plain": [
              "<IPython.core.display.HTML object>"
            ]
          },
          "metadata": {
            "tags": []
          }
        }
      ]
    },
    {
      "cell_type": "code",
      "metadata": {
        "id": "MDPlvRF2cF7Q"
      },
      "source": [
        "texto = 'Bill Gates nasceu em Seattle em 28/10/1955 e foi o criador da Microsoft'"
      ],
      "execution_count": null,
      "outputs": []
    },
    {
      "cell_type": "code",
      "metadata": {
        "id": "W00f6-70UYkI",
        "colab": {
          "base_uri": "https://localhost:8080/"
        },
        "outputId": "80565e47-fe16-491a-b739-f731b76749e7"
      },
      "source": [
        "documento = pln(texto)\n",
        "for entidade in documento.ents:\n",
        "  print(entidade.text, entidade.label_)"
      ],
      "execution_count": null,
      "outputs": [
        {
          "output_type": "stream",
          "text": [
            "Bill Gates PER\n",
            "Seattle LOC\n",
            "Microsoft ORG\n"
          ],
          "name": "stdout"
        }
      ]
    },
    {
      "cell_type": "code",
      "metadata": {
        "id": "vQOX_rbNUlCh",
        "colab": {
          "base_uri": "https://localhost:8080/",
          "height": 52
        },
        "outputId": "f8f526f9-00cd-41e7-9c09-f51654031157"
      },
      "source": [
        "displacy.render(documento, style = 'ent', jupyter = True)"
      ],
      "execution_count": null,
      "outputs": [
        {
          "output_type": "display_data",
          "data": {
            "text/html": [
              "<div class=\"entities\" style=\"line-height: 2.5; direction: ltr\">\n",
              "<mark class=\"entity\" style=\"background: #ddd; padding: 0.45em 0.6em; margin: 0 0.25em; line-height: 1; border-radius: 0.35em;\">\n",
              "    Bill Gates\n",
              "    <span style=\"font-size: 0.8em; font-weight: bold; line-height: 1; border-radius: 0.35em; text-transform: uppercase; vertical-align: middle; margin-left: 0.5rem\">PER</span>\n",
              "</mark>\n",
              " nasceu em \n",
              "<mark class=\"entity\" style=\"background: #ff9561; padding: 0.45em 0.6em; margin: 0 0.25em; line-height: 1; border-radius: 0.35em;\">\n",
              "    Seattle\n",
              "    <span style=\"font-size: 0.8em; font-weight: bold; line-height: 1; border-radius: 0.35em; text-transform: uppercase; vertical-align: middle; margin-left: 0.5rem\">LOC</span>\n",
              "</mark>\n",
              " em 28/10/1955 e foi o criador da \n",
              "<mark class=\"entity\" style=\"background: #7aecec; padding: 0.45em 0.6em; margin: 0 0.25em; line-height: 1; border-radius: 0.35em;\">\n",
              "    Microsoft\n",
              "    <span style=\"font-size: 0.8em; font-weight: bold; line-height: 1; border-radius: 0.35em; text-transform: uppercase; vertical-align: middle; margin-left: 0.5rem\">ORG</span>\n",
              "</mark>\n",
              "</div>"
            ],
            "text/plain": [
              "<IPython.core.display.HTML object>"
            ]
          },
          "metadata": {
            "tags": []
          }
        }
      ]
    },
    {
      "cell_type": "code",
      "metadata": {
        "id": "86ecZ6oDUsQv",
        "colab": {
          "base_uri": "https://localhost:8080/"
        },
        "outputId": "ce76aca9-9eb0-46e6-ebb3-8eb483c79451"
      },
      "source": [
        "for entidade in documento.ents:\n",
        "  if entidade.label_ == 'PER':\n",
        "    print(entidade.text)"
      ],
      "execution_count": null,
      "outputs": [
        {
          "output_type": "stream",
          "text": [
            "Bill Gates\n"
          ],
          "name": "stdout"
        }
      ]
    },
    {
      "cell_type": "markdown",
      "metadata": {
        "id": "Gt4Rg6ekdsmF"
      },
      "source": [
        "# Etapa 5: Stopwords"
      ]
    },
    {
      "cell_type": "markdown",
      "metadata": {
        "id": "Stg3FUaoeW4I"
      },
      "source": [
        "- Palavras que aparecem com muita frequência e que não apresentam muito significado (e, a, de, da, etc)"
      ]
    },
    {
      "cell_type": "code",
      "metadata": {
        "id": "MQ2Mxo4vVZ-w"
      },
      "source": [
        "from spacy.lang.pt.stop_words import STOP_WORDS"
      ],
      "execution_count": null,
      "outputs": []
    },
    {
      "cell_type": "code",
      "metadata": {
        "id": "_FZdoyg2VgdF",
        "colab": {
          "base_uri": "https://localhost:8080/"
        },
        "outputId": "82dc1df4-5c28-4574-e1af-ea7579f3886e"
      },
      "source": [
        "print(STOP_WORDS)"
      ],
      "execution_count": null,
      "outputs": [
        {
          "output_type": "stream",
          "text": [
            "{'vários', 'lugar', 'baixo', 'outras', 'estou', 'parte', 'nova', 'comprida', 'uns', 'grandes', 'fazer', 'suas', 'só', 'outra', 'sétimo', 'cima', 'cento', 'agora', 'sempre', 'cinco', 'este', 'neste', 'vêm', 'seus', 'sistema', 'tente', 'sois', 'tipo', 'obrigado', 'naquela', 'como', 'contra', 'essa', 'estivemos', 'certamente', 'tens', 'sob', 'dez', 'nove', 'de', 'dois', 'estava', 'tanta', 'seis', 'partir', 'tendes', 'terceira', 'da', 'saber', 'eventual', 'lá', 'tivestes', 'dessa', 'tudo', 'possivelmente', 'do', 'mais', 'sete', 'cá', 'dizer', 'se', 'meu', 'apoia', 'bem', 'acerca', 'com', 'ambos', 'apoio', 'tua', 'quais', 'meses', 'pouca', 'aos', 'conhecida', 'corrente', 'aquilo', 'sexta', 'tão', 'oitava', 'mesmo', 'podem', 'isso', 'certeza', 'vos', 'ou', 'estes', 'cada', 'nossos', 'muitos', 'sétima', 'nesta', 'breve', 'sem', 'outros', 'nos', 'próxima', 'porquê', 'debaixo', 'teus', 'valor', 'umas', 'vinte', 'ali', 'ademais', 'fora', 'mil', 'além', 'poderá', 'grande', 'teu', 'porque', 'três', 'falta', 'sou', 'quanto', 'relação', 'fim', 'toda', 'tiveste', 'ir', 'tarde', 'for', 'uma', 'estive', 'números', 'tenho', 'todos', 'diante', 'quinze', 'somente', 'cedo', 'estará', 'apenas', 'ontem', 'vossas', 'momento', 'põe', 'nas', 'onde', 'no', 'nossas', 'é', 'lado', 'conhecido', 'oito', 'geral', 'ora', 'cuja', 'depois', 'diz', 'as', 'nível', 'bom', 'conselho', 'fazia', 'mal', 'irá', 'logo', 'quê', 'eles', 'maior', 'favor', 'estão', 'vens', 'são', 'numa', 'essas', 'vocês', 'novos', 'enquanto', 'pouco', 'daquele', 'nuns', 'meus', 'nunca', 'por', 'te', 'dizem', 'longe', 'vosso', 'às', 'mês', 'primeiro', 'cujo', 'nosso', 'adeus', 'questão', 'sexto', 'vós', 'fazeis', 'estar', 'ele', 'entre', 'exemplo', 'meio', 'ainda', 'bastante', 'inclusive', 'usa', 'direita', 'podia', 'tuas', 'qual', 'aí', 'contudo', 'desta', 'novo', 'quem', 'isto', 'tiveram', 'estiveste', 'vem', 'os', 'até', 'dentro', 'inicio', 'porquanto', 'fazem', 'ponto', 'ter', 'nessa', 'doze', 'vão', 'novas', 'em', 'dos', 'aqueles', 'menor', 'minhas', 'num', 'temos', 'tempo', 'vezes', 'talvez', 'treze', 'sei', 'pode', 'pela', 'máximo', 'pontos', 'caminho', 'então', 'primeira', 'nós', 'pelo', 'algumas', 'um', 'dezassete', 'minha', 'assim', 'dezoito', 'pelas', 'próprio', 'próximo', 'aquele', 'todo', 'tentar', 'oitavo', 'estiveram', 'parece', 'ser', 'és', 'quando', 'têm', 'des', 'está', 'elas', 'catorze', 'nesse', 'quieta', 'seria', 'aquelas', 'coisa', 'embora', 'aqui', 'ligado', 'pois', 'comprido', 'quinta', 'último', 'naquele', 'pelos', 'nem', 'iniciar', 'põem', 'duas', 'esse', 'vais', 'onze', 'lhe', 'sabe', 'usar', 'obrigada', 'tentei', 'quieto', 'segunda', 'atrás', 'ela', 'forma', 'deverá', 'demais', 'nenhuma', 'portanto', 'antes', 'estas', 'porém', 'menos', 'vossa', 'sua', 'ambas', 'fostes', 'quarto', 'querem', 'me', 'mas', 'disso', 'área', 'vez', 'vinda', 'daquela', 'estás', 'devem', 'maiorias', 'qualquer', 'à', 'algo', 'local', 'quarta', 'possível', 'deste', 'poder', 'seu', 'ao', 'tentaram', 'quer', 'dezasseis', 'não', 'pôde', 'tem', 'nossa', 'fui', 'ver', 'vindo', 'fomos', 'quatro', 'estivestes', 'nada', 'dar', 'quinto', 'tanto', 'tu', 'fazes', 'dezanove', 'povo', 'veja', 'desde', 'quero', 'custa', 'boa', 'era', 'sim', 'através', 'eu', 'grupo', 'desse', 'deve', 'fazemos', 'dá', 'fará', 'foi', 'tive', 'número', 'tivemos', 'vossos', 'todas', 'esteve', 'foste', 'esses', 'após', 'segundo', 'dão', 'perto', 'para', 'posição', 'zero', 'faço', 'tal', 'pegar', 'alguns', 'também', 'sobre', 'puderam', 'final', 'você', 'já', 'teve', 'faz', 'posso', 'das', 'maioria', 'tais', 'terceiro', 'apontar', 'foram', 'vai', 'esta', 'aquela', 'muito', 'fez', 'somos', 'na', 'estado', 'que'}\n"
          ],
          "name": "stdout"
        }
      ]
    },
    {
      "cell_type": "code",
      "metadata": {
        "id": "ebS0ad1CVpD8",
        "colab": {
          "base_uri": "https://localhost:8080/"
        },
        "outputId": "7feca228-6048-4769-f900-f4ff0e564c43"
      },
      "source": [
        "len(STOP_WORDS)"
      ],
      "execution_count": null,
      "outputs": [
        {
          "output_type": "execute_result",
          "data": {
            "text/plain": [
              "413"
            ]
          },
          "metadata": {
            "tags": []
          },
          "execution_count": 34
        }
      ]
    },
    {
      "cell_type": "code",
      "metadata": {
        "id": "_k3mNHEBVtWr",
        "colab": {
          "base_uri": "https://localhost:8080/"
        },
        "outputId": "2e383b26-d6c8-44c8-e4db-42d714f22d00"
      },
      "source": [
        "pln.vocab['ir'].is_stop"
      ],
      "execution_count": null,
      "outputs": [
        {
          "output_type": "execute_result",
          "data": {
            "text/plain": [
              "True"
            ]
          },
          "metadata": {
            "tags": []
          },
          "execution_count": 35
        }
      ]
    },
    {
      "cell_type": "code",
      "metadata": {
        "id": "JQmM-k23V1Mk",
        "colab": {
          "base_uri": "https://localhost:8080/"
        },
        "outputId": "ee37347e-c065-4bb2-b46a-cb5e1f3204ce"
      },
      "source": [
        "pln.vocab['caminhar'].is_stop"
      ],
      "execution_count": null,
      "outputs": [
        {
          "output_type": "execute_result",
          "data": {
            "text/plain": [
              "False"
            ]
          },
          "metadata": {
            "tags": []
          },
          "execution_count": 36
        }
      ]
    },
    {
      "cell_type": "code",
      "metadata": {
        "id": "5H4eI813V8h7"
      },
      "source": [
        "documento = pln('Estou aprendendo processamento de linguagem natural, curso em Curitiba')"
      ],
      "execution_count": null,
      "outputs": []
    },
    {
      "cell_type": "code",
      "metadata": {
        "id": "jVtMxX__WE9y",
        "colab": {
          "base_uri": "https://localhost:8080/"
        },
        "outputId": "f45b556d-4cc4-4305-e83d-d781fff89adf"
      },
      "source": [
        "for token in documento:\n",
        "  if not pln.vocab[token.text].is_stop:\n",
        "    print(token.text)"
      ],
      "execution_count": null,
      "outputs": [
        {
          "output_type": "stream",
          "text": [
            "aprendendo\n",
            "processamento\n",
            "linguagem\n",
            "natural\n",
            ",\n",
            "curso\n",
            "Curitiba\n"
          ],
          "name": "stdout"
        }
      ]
    },
    {
      "cell_type": "markdown",
      "metadata": {
        "id": "Xi7gpbH1fwvM"
      },
      "source": [
        "# Etapa 6: Parsing de dependências\n",
        "\n",
        "- Relação pai-filho entre as palavras"
      ]
    },
    {
      "cell_type": "markdown",
      "metadata": {
        "id": "BVzGp1zLohyU"
      },
      "source": [
        "## Exemplo 1"
      ]
    },
    {
      "cell_type": "code",
      "metadata": {
        "id": "JDYw7Hj9dMgG"
      },
      "source": [
        "documento = pln('reserve uma passagem saindo de Guarulhos e chegando em Curitiba')"
      ],
      "execution_count": null,
      "outputs": []
    },
    {
      "cell_type": "code",
      "metadata": {
        "id": "Vh2IjFfldY5T",
        "colab": {
          "base_uri": "https://localhost:8080/"
        },
        "outputId": "104e1b54-cb87-416b-e417-25e752e941fa"
      },
      "source": [
        "origem = documento[5]\n",
        "destino = documento[9]\n",
        "origem, destino"
      ],
      "execution_count": null,
      "outputs": [
        {
          "output_type": "execute_result",
          "data": {
            "text/plain": [
              "(Guarulhos, Curitiba)"
            ]
          },
          "metadata": {
            "tags": []
          },
          "execution_count": 40
        }
      ]
    },
    {
      "cell_type": "code",
      "metadata": {
        "id": "DZa2XP8wdmej",
        "colab": {
          "base_uri": "https://localhost:8080/"
        },
        "outputId": "b83abf77-922d-45f3-b8db-d3057ec49c41"
      },
      "source": [
        "list(origem.ancestors)"
      ],
      "execution_count": null,
      "outputs": [
        {
          "output_type": "execute_result",
          "data": {
            "text/plain": [
              "[passagem, reserve]"
            ]
          },
          "metadata": {
            "tags": []
          },
          "execution_count": 41
        }
      ]
    },
    {
      "cell_type": "code",
      "metadata": {
        "id": "O411j0dQdyUt",
        "colab": {
          "base_uri": "https://localhost:8080/"
        },
        "outputId": "591834c8-5eb7-4ea1-f01a-547d6e9eeac7"
      },
      "source": [
        "list(destino.ancestors)"
      ],
      "execution_count": null,
      "outputs": [
        {
          "output_type": "execute_result",
          "data": {
            "text/plain": [
              "[chegando, reserve]"
            ]
          },
          "metadata": {
            "tags": []
          },
          "execution_count": 42
        }
      ]
    },
    {
      "cell_type": "code",
      "metadata": {
        "id": "jRjT1GWReP7T",
        "colab": {
          "base_uri": "https://localhost:8080/"
        },
        "outputId": "e5c8d447-c275-477b-b6cf-b96e8367c8a4"
      },
      "source": [
        "documento[0].is_ancestor(documento[2])"
      ],
      "execution_count": null,
      "outputs": [
        {
          "output_type": "execute_result",
          "data": {
            "text/plain": [
              "True"
            ]
          },
          "metadata": {
            "tags": []
          },
          "execution_count": 43
        }
      ]
    },
    {
      "cell_type": "markdown",
      "metadata": {
        "id": "i5j9bqKvokEj"
      },
      "source": [
        "## Exemplo 2"
      ]
    },
    {
      "cell_type": "code",
      "metadata": {
        "id": "ZiQPTG4xevSh"
      },
      "source": [
        "documento = pln('Reserva de uma mesa para o restaurante e de um táxi para o hotel')"
      ],
      "execution_count": null,
      "outputs": []
    },
    {
      "cell_type": "code",
      "metadata": {
        "id": "OstZUBbne4EN"
      },
      "source": [
        "tarefas = documento[3], documento[10]\n",
        "locais = documento[6], documento[13]"
      ],
      "execution_count": null,
      "outputs": []
    },
    {
      "cell_type": "code",
      "metadata": {
        "id": "dzMFFPgVfA8Z",
        "colab": {
          "base_uri": "https://localhost:8080/"
        },
        "outputId": "ff71408a-98a1-4e2e-f06a-45eb77a9aeb4"
      },
      "source": [
        "tarefas, locais"
      ],
      "execution_count": null,
      "outputs": [
        {
          "output_type": "execute_result",
          "data": {
            "text/plain": [
              "((mesa, táxi), (restaurante, hotel))"
            ]
          },
          "metadata": {
            "tags": []
          },
          "execution_count": 46
        }
      ]
    },
    {
      "cell_type": "code",
      "metadata": {
        "id": "AL2g1U62fTNg",
        "colab": {
          "base_uri": "https://localhost:8080/"
        },
        "outputId": "81d43992-db39-425f-8c7f-f825369583cd"
      },
      "source": [
        "for local in locais:\n",
        "  print('-----', local)\n",
        "  for objeto in local.ancestors:\n",
        "    print(objeto)"
      ],
      "execution_count": null,
      "outputs": [
        {
          "output_type": "stream",
          "text": [
            "----- restaurante\n",
            "mesa\n",
            "Reserva\n",
            "----- hotel\n",
            "táxi\n",
            "restaurante\n",
            "mesa\n",
            "Reserva\n"
          ],
          "name": "stdout"
        }
      ]
    },
    {
      "cell_type": "code",
      "metadata": {
        "id": "fkfypRypfzbN",
        "colab": {
          "base_uri": "https://localhost:8080/"
        },
        "outputId": "1667e489-0831-4ad4-f16f-0e56816a5e71"
      },
      "source": [
        "for local in locais:\n",
        "  for objeto in local.ancestors:\n",
        "    if objeto in tarefas:\n",
        "      print(\"Reserva de {} é para o {}\".format(objeto, local))\n",
        "      break"
      ],
      "execution_count": null,
      "outputs": [
        {
          "output_type": "stream",
          "text": [
            "Reserva de mesa é para o restaurante\n",
            "Reserva de táxi é para o hotel\n"
          ],
          "name": "stdout"
        }
      ]
    },
    {
      "cell_type": "code",
      "metadata": {
        "id": "R6p3b25SgmLB",
        "colab": {
          "base_uri": "https://localhost:8080/"
        },
        "outputId": "b549bf20-5649-40db-a0c6-1909e7cf8ffd"
      },
      "source": [
        "list(documento[6].children)"
      ],
      "execution_count": null,
      "outputs": [
        {
          "output_type": "execute_result",
          "data": {
            "text/plain": [
              "[para, o, táxi]"
            ]
          },
          "metadata": {
            "tags": []
          },
          "execution_count": 49
        }
      ]
    },
    {
      "cell_type": "markdown",
      "metadata": {
        "id": "NRXWYfXbol9-"
      },
      "source": [
        "## Exemplo 3"
      ]
    },
    {
      "cell_type": "code",
      "metadata": {
        "id": "5m5mEyhohKpS"
      },
      "source": [
        "from spacy import displacy"
      ],
      "execution_count": null,
      "outputs": []
    },
    {
      "cell_type": "code",
      "metadata": {
        "id": "g2Dr629nhQu5"
      },
      "source": [
        "documento = pln('Reserva de uma mesa para o restaurante e de um táxi para o hotel')"
      ],
      "execution_count": null,
      "outputs": []
    },
    {
      "cell_type": "code",
      "metadata": {
        "id": "PROUVvRHhUp-",
        "colab": {
          "base_uri": "https://localhost:8080/",
          "height": 338
        },
        "outputId": "6c034c09-aa9f-408b-ab3e-b3f5d5745b52"
      },
      "source": [
        "#displacy.serve(documento, style='dep')\n",
        "displacy.render(documento, style='dep', jupyter=True, options={'distance': 90})"
      ],
      "execution_count": null,
      "outputs": [
        {
          "output_type": "display_data",
          "data": {
            "text/html": [
              "<svg xmlns=\"http://www.w3.org/2000/svg\" xmlns:xlink=\"http://www.w3.org/1999/xlink\" xml:lang=\"pt\" id=\"d1794c32a5c94762a9d4b5fa88d7d292-0\" class=\"displacy\" width=\"1310\" height=\"317.0\" direction=\"ltr\" style=\"max-width: none; height: 317.0px; color: #000000; background: #ffffff; font-family: Arial; direction: ltr\">\n",
              "<text class=\"displacy-token\" fill=\"currentColor\" text-anchor=\"middle\" y=\"227.0\">\n",
              "    <tspan class=\"displacy-word\" fill=\"currentColor\" x=\"50\">Reserva</tspan>\n",
              "    <tspan class=\"displacy-tag\" dy=\"2em\" fill=\"currentColor\" x=\"50\">NOUN</tspan>\n",
              "</text>\n",
              "\n",
              "<text class=\"displacy-token\" fill=\"currentColor\" text-anchor=\"middle\" y=\"227.0\">\n",
              "    <tspan class=\"displacy-word\" fill=\"currentColor\" x=\"140\">de</tspan>\n",
              "    <tspan class=\"displacy-tag\" dy=\"2em\" fill=\"currentColor\" x=\"140\">ADP</tspan>\n",
              "</text>\n",
              "\n",
              "<text class=\"displacy-token\" fill=\"currentColor\" text-anchor=\"middle\" y=\"227.0\">\n",
              "    <tspan class=\"displacy-word\" fill=\"currentColor\" x=\"230\">uma</tspan>\n",
              "    <tspan class=\"displacy-tag\" dy=\"2em\" fill=\"currentColor\" x=\"230\">DET</tspan>\n",
              "</text>\n",
              "\n",
              "<text class=\"displacy-token\" fill=\"currentColor\" text-anchor=\"middle\" y=\"227.0\">\n",
              "    <tspan class=\"displacy-word\" fill=\"currentColor\" x=\"320\">mesa</tspan>\n",
              "    <tspan class=\"displacy-tag\" dy=\"2em\" fill=\"currentColor\" x=\"320\">NOUN</tspan>\n",
              "</text>\n",
              "\n",
              "<text class=\"displacy-token\" fill=\"currentColor\" text-anchor=\"middle\" y=\"227.0\">\n",
              "    <tspan class=\"displacy-word\" fill=\"currentColor\" x=\"410\">para</tspan>\n",
              "    <tspan class=\"displacy-tag\" dy=\"2em\" fill=\"currentColor\" x=\"410\">ADP</tspan>\n",
              "</text>\n",
              "\n",
              "<text class=\"displacy-token\" fill=\"currentColor\" text-anchor=\"middle\" y=\"227.0\">\n",
              "    <tspan class=\"displacy-word\" fill=\"currentColor\" x=\"500\">o</tspan>\n",
              "    <tspan class=\"displacy-tag\" dy=\"2em\" fill=\"currentColor\" x=\"500\">DET</tspan>\n",
              "</text>\n",
              "\n",
              "<text class=\"displacy-token\" fill=\"currentColor\" text-anchor=\"middle\" y=\"227.0\">\n",
              "    <tspan class=\"displacy-word\" fill=\"currentColor\" x=\"590\">restaurante</tspan>\n",
              "    <tspan class=\"displacy-tag\" dy=\"2em\" fill=\"currentColor\" x=\"590\">NOUN</tspan>\n",
              "</text>\n",
              "\n",
              "<text class=\"displacy-token\" fill=\"currentColor\" text-anchor=\"middle\" y=\"227.0\">\n",
              "    <tspan class=\"displacy-word\" fill=\"currentColor\" x=\"680\">e</tspan>\n",
              "    <tspan class=\"displacy-tag\" dy=\"2em\" fill=\"currentColor\" x=\"680\">CCONJ</tspan>\n",
              "</text>\n",
              "\n",
              "<text class=\"displacy-token\" fill=\"currentColor\" text-anchor=\"middle\" y=\"227.0\">\n",
              "    <tspan class=\"displacy-word\" fill=\"currentColor\" x=\"770\">de</tspan>\n",
              "    <tspan class=\"displacy-tag\" dy=\"2em\" fill=\"currentColor\" x=\"770\">ADP</tspan>\n",
              "</text>\n",
              "\n",
              "<text class=\"displacy-token\" fill=\"currentColor\" text-anchor=\"middle\" y=\"227.0\">\n",
              "    <tspan class=\"displacy-word\" fill=\"currentColor\" x=\"860\">um</tspan>\n",
              "    <tspan class=\"displacy-tag\" dy=\"2em\" fill=\"currentColor\" x=\"860\">DET</tspan>\n",
              "</text>\n",
              "\n",
              "<text class=\"displacy-token\" fill=\"currentColor\" text-anchor=\"middle\" y=\"227.0\">\n",
              "    <tspan class=\"displacy-word\" fill=\"currentColor\" x=\"950\">táxi</tspan>\n",
              "    <tspan class=\"displacy-tag\" dy=\"2em\" fill=\"currentColor\" x=\"950\">NOUN</tspan>\n",
              "</text>\n",
              "\n",
              "<text class=\"displacy-token\" fill=\"currentColor\" text-anchor=\"middle\" y=\"227.0\">\n",
              "    <tspan class=\"displacy-word\" fill=\"currentColor\" x=\"1040\">para</tspan>\n",
              "    <tspan class=\"displacy-tag\" dy=\"2em\" fill=\"currentColor\" x=\"1040\">ADP</tspan>\n",
              "</text>\n",
              "\n",
              "<text class=\"displacy-token\" fill=\"currentColor\" text-anchor=\"middle\" y=\"227.0\">\n",
              "    <tspan class=\"displacy-word\" fill=\"currentColor\" x=\"1130\">o</tspan>\n",
              "    <tspan class=\"displacy-tag\" dy=\"2em\" fill=\"currentColor\" x=\"1130\">DET</tspan>\n",
              "</text>\n",
              "\n",
              "<text class=\"displacy-token\" fill=\"currentColor\" text-anchor=\"middle\" y=\"227.0\">\n",
              "    <tspan class=\"displacy-word\" fill=\"currentColor\" x=\"1220\">hotel</tspan>\n",
              "    <tspan class=\"displacy-tag\" dy=\"2em\" fill=\"currentColor\" x=\"1220\">NOUN</tspan>\n",
              "</text>\n",
              "\n",
              "<g class=\"displacy-arrow\">\n",
              "    <path class=\"displacy-arc\" id=\"arrow-d1794c32a5c94762a9d4b5fa88d7d292-0-0\" stroke-width=\"2px\" d=\"M160,182.0 C160,92.0 310.0,92.0 310.0,182.0\" fill=\"none\" stroke=\"currentColor\"/>\n",
              "    <text dy=\"1.25em\" style=\"font-size: 0.8em; letter-spacing: 1px\">\n",
              "        <textPath xlink:href=\"#arrow-d1794c32a5c94762a9d4b5fa88d7d292-0-0\" class=\"displacy-label\" startOffset=\"50%\" side=\"left\" fill=\"currentColor\" text-anchor=\"middle\">case</textPath>\n",
              "    </text>\n",
              "    <path class=\"displacy-arrowhead\" d=\"M160,184.0 L152,172.0 168,172.0\" fill=\"currentColor\"/>\n",
              "</g>\n",
              "\n",
              "<g class=\"displacy-arrow\">\n",
              "    <path class=\"displacy-arc\" id=\"arrow-d1794c32a5c94762a9d4b5fa88d7d292-0-1\" stroke-width=\"2px\" d=\"M250,182.0 C250,137.0 305.0,137.0 305.0,182.0\" fill=\"none\" stroke=\"currentColor\"/>\n",
              "    <text dy=\"1.25em\" style=\"font-size: 0.8em; letter-spacing: 1px\">\n",
              "        <textPath xlink:href=\"#arrow-d1794c32a5c94762a9d4b5fa88d7d292-0-1\" class=\"displacy-label\" startOffset=\"50%\" side=\"left\" fill=\"currentColor\" text-anchor=\"middle\">det</textPath>\n",
              "    </text>\n",
              "    <path class=\"displacy-arrowhead\" d=\"M250,184.0 L242,172.0 258,172.0\" fill=\"currentColor\"/>\n",
              "</g>\n",
              "\n",
              "<g class=\"displacy-arrow\">\n",
              "    <path class=\"displacy-arc\" id=\"arrow-d1794c32a5c94762a9d4b5fa88d7d292-0-2\" stroke-width=\"2px\" d=\"M70,182.0 C70,47.0 315.0,47.0 315.0,182.0\" fill=\"none\" stroke=\"currentColor\"/>\n",
              "    <text dy=\"1.25em\" style=\"font-size: 0.8em; letter-spacing: 1px\">\n",
              "        <textPath xlink:href=\"#arrow-d1794c32a5c94762a9d4b5fa88d7d292-0-2\" class=\"displacy-label\" startOffset=\"50%\" side=\"left\" fill=\"currentColor\" text-anchor=\"middle\">nmod</textPath>\n",
              "    </text>\n",
              "    <path class=\"displacy-arrowhead\" d=\"M315.0,184.0 L323.0,172.0 307.0,172.0\" fill=\"currentColor\"/>\n",
              "</g>\n",
              "\n",
              "<g class=\"displacy-arrow\">\n",
              "    <path class=\"displacy-arc\" id=\"arrow-d1794c32a5c94762a9d4b5fa88d7d292-0-3\" stroke-width=\"2px\" d=\"M430,182.0 C430,92.0 580.0,92.0 580.0,182.0\" fill=\"none\" stroke=\"currentColor\"/>\n",
              "    <text dy=\"1.25em\" style=\"font-size: 0.8em; letter-spacing: 1px\">\n",
              "        <textPath xlink:href=\"#arrow-d1794c32a5c94762a9d4b5fa88d7d292-0-3\" class=\"displacy-label\" startOffset=\"50%\" side=\"left\" fill=\"currentColor\" text-anchor=\"middle\">case</textPath>\n",
              "    </text>\n",
              "    <path class=\"displacy-arrowhead\" d=\"M430,184.0 L422,172.0 438,172.0\" fill=\"currentColor\"/>\n",
              "</g>\n",
              "\n",
              "<g class=\"displacy-arrow\">\n",
              "    <path class=\"displacy-arc\" id=\"arrow-d1794c32a5c94762a9d4b5fa88d7d292-0-4\" stroke-width=\"2px\" d=\"M520,182.0 C520,137.0 575.0,137.0 575.0,182.0\" fill=\"none\" stroke=\"currentColor\"/>\n",
              "    <text dy=\"1.25em\" style=\"font-size: 0.8em; letter-spacing: 1px\">\n",
              "        <textPath xlink:href=\"#arrow-d1794c32a5c94762a9d4b5fa88d7d292-0-4\" class=\"displacy-label\" startOffset=\"50%\" side=\"left\" fill=\"currentColor\" text-anchor=\"middle\">det</textPath>\n",
              "    </text>\n",
              "    <path class=\"displacy-arrowhead\" d=\"M520,184.0 L512,172.0 528,172.0\" fill=\"currentColor\"/>\n",
              "</g>\n",
              "\n",
              "<g class=\"displacy-arrow\">\n",
              "    <path class=\"displacy-arc\" id=\"arrow-d1794c32a5c94762a9d4b5fa88d7d292-0-5\" stroke-width=\"2px\" d=\"M340,182.0 C340,47.0 585.0,47.0 585.0,182.0\" fill=\"none\" stroke=\"currentColor\"/>\n",
              "    <text dy=\"1.25em\" style=\"font-size: 0.8em; letter-spacing: 1px\">\n",
              "        <textPath xlink:href=\"#arrow-d1794c32a5c94762a9d4b5fa88d7d292-0-5\" class=\"displacy-label\" startOffset=\"50%\" side=\"left\" fill=\"currentColor\" text-anchor=\"middle\">nmod</textPath>\n",
              "    </text>\n",
              "    <path class=\"displacy-arrowhead\" d=\"M585.0,184.0 L593.0,172.0 577.0,172.0\" fill=\"currentColor\"/>\n",
              "</g>\n",
              "\n",
              "<g class=\"displacy-arrow\">\n",
              "    <path class=\"displacy-arc\" id=\"arrow-d1794c32a5c94762a9d4b5fa88d7d292-0-6\" stroke-width=\"2px\" d=\"M700,182.0 C700,47.0 945.0,47.0 945.0,182.0\" fill=\"none\" stroke=\"currentColor\"/>\n",
              "    <text dy=\"1.25em\" style=\"font-size: 0.8em; letter-spacing: 1px\">\n",
              "        <textPath xlink:href=\"#arrow-d1794c32a5c94762a9d4b5fa88d7d292-0-6\" class=\"displacy-label\" startOffset=\"50%\" side=\"left\" fill=\"currentColor\" text-anchor=\"middle\">cc</textPath>\n",
              "    </text>\n",
              "    <path class=\"displacy-arrowhead\" d=\"M700,184.0 L692,172.0 708,172.0\" fill=\"currentColor\"/>\n",
              "</g>\n",
              "\n",
              "<g class=\"displacy-arrow\">\n",
              "    <path class=\"displacy-arc\" id=\"arrow-d1794c32a5c94762a9d4b5fa88d7d292-0-7\" stroke-width=\"2px\" d=\"M790,182.0 C790,92.0 940.0,92.0 940.0,182.0\" fill=\"none\" stroke=\"currentColor\"/>\n",
              "    <text dy=\"1.25em\" style=\"font-size: 0.8em; letter-spacing: 1px\">\n",
              "        <textPath xlink:href=\"#arrow-d1794c32a5c94762a9d4b5fa88d7d292-0-7\" class=\"displacy-label\" startOffset=\"50%\" side=\"left\" fill=\"currentColor\" text-anchor=\"middle\">case</textPath>\n",
              "    </text>\n",
              "    <path class=\"displacy-arrowhead\" d=\"M790,184.0 L782,172.0 798,172.0\" fill=\"currentColor\"/>\n",
              "</g>\n",
              "\n",
              "<g class=\"displacy-arrow\">\n",
              "    <path class=\"displacy-arc\" id=\"arrow-d1794c32a5c94762a9d4b5fa88d7d292-0-8\" stroke-width=\"2px\" d=\"M880,182.0 C880,137.0 935.0,137.0 935.0,182.0\" fill=\"none\" stroke=\"currentColor\"/>\n",
              "    <text dy=\"1.25em\" style=\"font-size: 0.8em; letter-spacing: 1px\">\n",
              "        <textPath xlink:href=\"#arrow-d1794c32a5c94762a9d4b5fa88d7d292-0-8\" class=\"displacy-label\" startOffset=\"50%\" side=\"left\" fill=\"currentColor\" text-anchor=\"middle\">det</textPath>\n",
              "    </text>\n",
              "    <path class=\"displacy-arrowhead\" d=\"M880,184.0 L872,172.0 888,172.0\" fill=\"currentColor\"/>\n",
              "</g>\n",
              "\n",
              "<g class=\"displacy-arrow\">\n",
              "    <path class=\"displacy-arc\" id=\"arrow-d1794c32a5c94762a9d4b5fa88d7d292-0-9\" stroke-width=\"2px\" d=\"M610,182.0 C610,2.0 950.0,2.0 950.0,182.0\" fill=\"none\" stroke=\"currentColor\"/>\n",
              "    <text dy=\"1.25em\" style=\"font-size: 0.8em; letter-spacing: 1px\">\n",
              "        <textPath xlink:href=\"#arrow-d1794c32a5c94762a9d4b5fa88d7d292-0-9\" class=\"displacy-label\" startOffset=\"50%\" side=\"left\" fill=\"currentColor\" text-anchor=\"middle\">conj</textPath>\n",
              "    </text>\n",
              "    <path class=\"displacy-arrowhead\" d=\"M950.0,184.0 L958.0,172.0 942.0,172.0\" fill=\"currentColor\"/>\n",
              "</g>\n",
              "\n",
              "<g class=\"displacy-arrow\">\n",
              "    <path class=\"displacy-arc\" id=\"arrow-d1794c32a5c94762a9d4b5fa88d7d292-0-10\" stroke-width=\"2px\" d=\"M1060,182.0 C1060,92.0 1210.0,92.0 1210.0,182.0\" fill=\"none\" stroke=\"currentColor\"/>\n",
              "    <text dy=\"1.25em\" style=\"font-size: 0.8em; letter-spacing: 1px\">\n",
              "        <textPath xlink:href=\"#arrow-d1794c32a5c94762a9d4b5fa88d7d292-0-10\" class=\"displacy-label\" startOffset=\"50%\" side=\"left\" fill=\"currentColor\" text-anchor=\"middle\">case</textPath>\n",
              "    </text>\n",
              "    <path class=\"displacy-arrowhead\" d=\"M1060,184.0 L1052,172.0 1068,172.0\" fill=\"currentColor\"/>\n",
              "</g>\n",
              "\n",
              "<g class=\"displacy-arrow\">\n",
              "    <path class=\"displacy-arc\" id=\"arrow-d1794c32a5c94762a9d4b5fa88d7d292-0-11\" stroke-width=\"2px\" d=\"M1150,182.0 C1150,137.0 1205.0,137.0 1205.0,182.0\" fill=\"none\" stroke=\"currentColor\"/>\n",
              "    <text dy=\"1.25em\" style=\"font-size: 0.8em; letter-spacing: 1px\">\n",
              "        <textPath xlink:href=\"#arrow-d1794c32a5c94762a9d4b5fa88d7d292-0-11\" class=\"displacy-label\" startOffset=\"50%\" side=\"left\" fill=\"currentColor\" text-anchor=\"middle\">det</textPath>\n",
              "    </text>\n",
              "    <path class=\"displacy-arrowhead\" d=\"M1150,184.0 L1142,172.0 1158,172.0\" fill=\"currentColor\"/>\n",
              "</g>\n",
              "\n",
              "<g class=\"displacy-arrow\">\n",
              "    <path class=\"displacy-arc\" id=\"arrow-d1794c32a5c94762a9d4b5fa88d7d292-0-12\" stroke-width=\"2px\" d=\"M970,182.0 C970,47.0 1215.0,47.0 1215.0,182.0\" fill=\"none\" stroke=\"currentColor\"/>\n",
              "    <text dy=\"1.25em\" style=\"font-size: 0.8em; letter-spacing: 1px\">\n",
              "        <textPath xlink:href=\"#arrow-d1794c32a5c94762a9d4b5fa88d7d292-0-12\" class=\"displacy-label\" startOffset=\"50%\" side=\"left\" fill=\"currentColor\" text-anchor=\"middle\">nmod</textPath>\n",
              "    </text>\n",
              "    <path class=\"displacy-arrowhead\" d=\"M1215.0,184.0 L1223.0,172.0 1207.0,172.0\" fill=\"currentColor\"/>\n",
              "</g>\n",
              "</svg>"
            ],
            "text/plain": [
              "<IPython.core.display.HTML object>"
            ]
          },
          "metadata": {
            "tags": []
          }
        }
      ]
    },
    {
      "cell_type": "code",
      "metadata": {
        "id": "t51t20FIh_4o",
        "colab": {
          "base_uri": "https://localhost:8080/"
        },
        "outputId": "a11311be-275f-4c7e-b53a-078c01c61b24"
      },
      "source": [
        "list(documento[3].ancestors)"
      ],
      "execution_count": null,
      "outputs": [
        {
          "output_type": "execute_result",
          "data": {
            "text/plain": [
              "[Reserva]"
            ]
          },
          "metadata": {
            "tags": []
          },
          "execution_count": 53
        }
      ]
    },
    {
      "cell_type": "code",
      "metadata": {
        "id": "Zinh6-Z0iW69",
        "colab": {
          "base_uri": "https://localhost:8080/"
        },
        "outputId": "8efc0041-bddf-44c2-d61f-348253189994"
      },
      "source": [
        "list(documento[3].children)"
      ],
      "execution_count": null,
      "outputs": [
        {
          "output_type": "execute_result",
          "data": {
            "text/plain": [
              "[de, uma, restaurante]"
            ]
          },
          "metadata": {
            "tags": []
          },
          "execution_count": 54
        }
      ]
    },
    {
      "cell_type": "markdown",
      "metadata": {
        "id": "Yfwi5m-4qQt2"
      },
      "source": [
        "## Exemplo 4"
      ]
    },
    {
      "cell_type": "code",
      "metadata": {
        "id": "APjnI_E6i2bv",
        "colab": {
          "base_uri": "https://localhost:8080/"
        },
        "outputId": "97da2388-398d-4f97-eec3-5315291c9ae1"
      },
      "source": [
        "documento = pln('Que locais podemos visitar em Curitiba e para ficar em Guarulhos?')\n",
        "lugares = documento[5], documento[10]\n",
        "acoes = documento[3], documento[8]\n",
        "lugares, acoes"
      ],
      "execution_count": null,
      "outputs": [
        {
          "output_type": "execute_result",
          "data": {
            "text/plain": [
              "((Curitiba, Guarulhos), (visitar, ficar))"
            ]
          },
          "metadata": {
            "tags": []
          },
          "execution_count": 55
        }
      ]
    },
    {
      "cell_type": "code",
      "metadata": {
        "id": "RLNvvM4TjMMP",
        "colab": {
          "base_uri": "https://localhost:8080/"
        },
        "outputId": "8dcae935-cb77-446a-e08b-fb4bd3856fc1"
      },
      "source": [
        "for local in lugares:\n",
        "  for acao in local.ancestors:\n",
        "    if acao in acoes:\n",
        "      print(\"{} para {}\".format(local, acao))\n",
        "      break"
      ],
      "execution_count": null,
      "outputs": [
        {
          "output_type": "stream",
          "text": [
            "Curitiba para visitar\n",
            "Guarulhos para ficar\n"
          ],
          "name": "stdout"
        }
      ]
    },
    {
      "cell_type": "code",
      "metadata": {
        "id": "ts_qM2UkjcAI",
        "colab": {
          "base_uri": "https://localhost:8080/",
          "height": 293
        },
        "outputId": "9b6af98a-1945-4241-d8a3-c7a4f1a4232f"
      },
      "source": [
        "displacy.render(documento, style='dep', jupyter=True, options={'distance': 90})"
      ],
      "execution_count": null,
      "outputs": [
        {
          "output_type": "display_data",
          "data": {
            "text/html": [
              "<svg xmlns=\"http://www.w3.org/2000/svg\" xmlns:xlink=\"http://www.w3.org/1999/xlink\" xml:lang=\"pt\" id=\"8ca883e376da4bd380487622a0aa0d29-0\" class=\"displacy\" width=\"1040\" height=\"272.0\" direction=\"ltr\" style=\"max-width: none; height: 272.0px; color: #000000; background: #ffffff; font-family: Arial; direction: ltr\">\n",
              "<text class=\"displacy-token\" fill=\"currentColor\" text-anchor=\"middle\" y=\"182.0\">\n",
              "    <tspan class=\"displacy-word\" fill=\"currentColor\" x=\"50\">Que</tspan>\n",
              "    <tspan class=\"displacy-tag\" dy=\"2em\" fill=\"currentColor\" x=\"50\">DET</tspan>\n",
              "</text>\n",
              "\n",
              "<text class=\"displacy-token\" fill=\"currentColor\" text-anchor=\"middle\" y=\"182.0\">\n",
              "    <tspan class=\"displacy-word\" fill=\"currentColor\" x=\"140\">locais</tspan>\n",
              "    <tspan class=\"displacy-tag\" dy=\"2em\" fill=\"currentColor\" x=\"140\">PROPN</tspan>\n",
              "</text>\n",
              "\n",
              "<text class=\"displacy-token\" fill=\"currentColor\" text-anchor=\"middle\" y=\"182.0\">\n",
              "    <tspan class=\"displacy-word\" fill=\"currentColor\" x=\"230\">podemos</tspan>\n",
              "    <tspan class=\"displacy-tag\" dy=\"2em\" fill=\"currentColor\" x=\"230\">AUX</tspan>\n",
              "</text>\n",
              "\n",
              "<text class=\"displacy-token\" fill=\"currentColor\" text-anchor=\"middle\" y=\"182.0\">\n",
              "    <tspan class=\"displacy-word\" fill=\"currentColor\" x=\"320\">visitar</tspan>\n",
              "    <tspan class=\"displacy-tag\" dy=\"2em\" fill=\"currentColor\" x=\"320\">VERB</tspan>\n",
              "</text>\n",
              "\n",
              "<text class=\"displacy-token\" fill=\"currentColor\" text-anchor=\"middle\" y=\"182.0\">\n",
              "    <tspan class=\"displacy-word\" fill=\"currentColor\" x=\"410\">em</tspan>\n",
              "    <tspan class=\"displacy-tag\" dy=\"2em\" fill=\"currentColor\" x=\"410\">ADP</tspan>\n",
              "</text>\n",
              "\n",
              "<text class=\"displacy-token\" fill=\"currentColor\" text-anchor=\"middle\" y=\"182.0\">\n",
              "    <tspan class=\"displacy-word\" fill=\"currentColor\" x=\"500\">Curitiba</tspan>\n",
              "    <tspan class=\"displacy-tag\" dy=\"2em\" fill=\"currentColor\" x=\"500\">PROPN</tspan>\n",
              "</text>\n",
              "\n",
              "<text class=\"displacy-token\" fill=\"currentColor\" text-anchor=\"middle\" y=\"182.0\">\n",
              "    <tspan class=\"displacy-word\" fill=\"currentColor\" x=\"590\">e</tspan>\n",
              "    <tspan class=\"displacy-tag\" dy=\"2em\" fill=\"currentColor\" x=\"590\">CCONJ</tspan>\n",
              "</text>\n",
              "\n",
              "<text class=\"displacy-token\" fill=\"currentColor\" text-anchor=\"middle\" y=\"182.0\">\n",
              "    <tspan class=\"displacy-word\" fill=\"currentColor\" x=\"680\">para</tspan>\n",
              "    <tspan class=\"displacy-tag\" dy=\"2em\" fill=\"currentColor\" x=\"680\">ADP</tspan>\n",
              "</text>\n",
              "\n",
              "<text class=\"displacy-token\" fill=\"currentColor\" text-anchor=\"middle\" y=\"182.0\">\n",
              "    <tspan class=\"displacy-word\" fill=\"currentColor\" x=\"770\">ficar</tspan>\n",
              "    <tspan class=\"displacy-tag\" dy=\"2em\" fill=\"currentColor\" x=\"770\">VERB</tspan>\n",
              "</text>\n",
              "\n",
              "<text class=\"displacy-token\" fill=\"currentColor\" text-anchor=\"middle\" y=\"182.0\">\n",
              "    <tspan class=\"displacy-word\" fill=\"currentColor\" x=\"860\">em</tspan>\n",
              "    <tspan class=\"displacy-tag\" dy=\"2em\" fill=\"currentColor\" x=\"860\">ADP</tspan>\n",
              "</text>\n",
              "\n",
              "<text class=\"displacy-token\" fill=\"currentColor\" text-anchor=\"middle\" y=\"182.0\">\n",
              "    <tspan class=\"displacy-word\" fill=\"currentColor\" x=\"950\">Guarulhos?</tspan>\n",
              "    <tspan class=\"displacy-tag\" dy=\"2em\" fill=\"currentColor\" x=\"950\">PROPN</tspan>\n",
              "</text>\n",
              "\n",
              "<g class=\"displacy-arrow\">\n",
              "    <path class=\"displacy-arc\" id=\"arrow-8ca883e376da4bd380487622a0aa0d29-0-0\" stroke-width=\"2px\" d=\"M70,137.0 C70,92.0 130.0,92.0 130.0,137.0\" fill=\"none\" stroke=\"currentColor\"/>\n",
              "    <text dy=\"1.25em\" style=\"font-size: 0.8em; letter-spacing: 1px\">\n",
              "        <textPath xlink:href=\"#arrow-8ca883e376da4bd380487622a0aa0d29-0-0\" class=\"displacy-label\" startOffset=\"50%\" side=\"left\" fill=\"currentColor\" text-anchor=\"middle\">det</textPath>\n",
              "    </text>\n",
              "    <path class=\"displacy-arrowhead\" d=\"M70,139.0 L62,127.0 78,127.0\" fill=\"currentColor\"/>\n",
              "</g>\n",
              "\n",
              "<g class=\"displacy-arrow\">\n",
              "    <path class=\"displacy-arc\" id=\"arrow-8ca883e376da4bd380487622a0aa0d29-0-1\" stroke-width=\"2px\" d=\"M160,137.0 C160,47.0 315.0,47.0 315.0,137.0\" fill=\"none\" stroke=\"currentColor\"/>\n",
              "    <text dy=\"1.25em\" style=\"font-size: 0.8em; letter-spacing: 1px\">\n",
              "        <textPath xlink:href=\"#arrow-8ca883e376da4bd380487622a0aa0d29-0-1\" class=\"displacy-label\" startOffset=\"50%\" side=\"left\" fill=\"currentColor\" text-anchor=\"middle\">nsubj</textPath>\n",
              "    </text>\n",
              "    <path class=\"displacy-arrowhead\" d=\"M160,139.0 L152,127.0 168,127.0\" fill=\"currentColor\"/>\n",
              "</g>\n",
              "\n",
              "<g class=\"displacy-arrow\">\n",
              "    <path class=\"displacy-arc\" id=\"arrow-8ca883e376da4bd380487622a0aa0d29-0-2\" stroke-width=\"2px\" d=\"M250,137.0 C250,92.0 310.0,92.0 310.0,137.0\" fill=\"none\" stroke=\"currentColor\"/>\n",
              "    <text dy=\"1.25em\" style=\"font-size: 0.8em; letter-spacing: 1px\">\n",
              "        <textPath xlink:href=\"#arrow-8ca883e376da4bd380487622a0aa0d29-0-2\" class=\"displacy-label\" startOffset=\"50%\" side=\"left\" fill=\"currentColor\" text-anchor=\"middle\">aux</textPath>\n",
              "    </text>\n",
              "    <path class=\"displacy-arrowhead\" d=\"M250,139.0 L242,127.0 258,127.0\" fill=\"currentColor\"/>\n",
              "</g>\n",
              "\n",
              "<g class=\"displacy-arrow\">\n",
              "    <path class=\"displacy-arc\" id=\"arrow-8ca883e376da4bd380487622a0aa0d29-0-3\" stroke-width=\"2px\" d=\"M430,137.0 C430,92.0 490.0,92.0 490.0,137.0\" fill=\"none\" stroke=\"currentColor\"/>\n",
              "    <text dy=\"1.25em\" style=\"font-size: 0.8em; letter-spacing: 1px\">\n",
              "        <textPath xlink:href=\"#arrow-8ca883e376da4bd380487622a0aa0d29-0-3\" class=\"displacy-label\" startOffset=\"50%\" side=\"left\" fill=\"currentColor\" text-anchor=\"middle\">case</textPath>\n",
              "    </text>\n",
              "    <path class=\"displacy-arrowhead\" d=\"M430,139.0 L422,127.0 438,127.0\" fill=\"currentColor\"/>\n",
              "</g>\n",
              "\n",
              "<g class=\"displacy-arrow\">\n",
              "    <path class=\"displacy-arc\" id=\"arrow-8ca883e376da4bd380487622a0aa0d29-0-4\" stroke-width=\"2px\" d=\"M340,137.0 C340,47.0 495.0,47.0 495.0,137.0\" fill=\"none\" stroke=\"currentColor\"/>\n",
              "    <text dy=\"1.25em\" style=\"font-size: 0.8em; letter-spacing: 1px\">\n",
              "        <textPath xlink:href=\"#arrow-8ca883e376da4bd380487622a0aa0d29-0-4\" class=\"displacy-label\" startOffset=\"50%\" side=\"left\" fill=\"currentColor\" text-anchor=\"middle\">obl</textPath>\n",
              "    </text>\n",
              "    <path class=\"displacy-arrowhead\" d=\"M495.0,139.0 L503.0,127.0 487.0,127.0\" fill=\"currentColor\"/>\n",
              "</g>\n",
              "\n",
              "<g class=\"displacy-arrow\">\n",
              "    <path class=\"displacy-arc\" id=\"arrow-8ca883e376da4bd380487622a0aa0d29-0-5\" stroke-width=\"2px\" d=\"M610,137.0 C610,47.0 765.0,47.0 765.0,137.0\" fill=\"none\" stroke=\"currentColor\"/>\n",
              "    <text dy=\"1.25em\" style=\"font-size: 0.8em; letter-spacing: 1px\">\n",
              "        <textPath xlink:href=\"#arrow-8ca883e376da4bd380487622a0aa0d29-0-5\" class=\"displacy-label\" startOffset=\"50%\" side=\"left\" fill=\"currentColor\" text-anchor=\"middle\">cc</textPath>\n",
              "    </text>\n",
              "    <path class=\"displacy-arrowhead\" d=\"M610,139.0 L602,127.0 618,127.0\" fill=\"currentColor\"/>\n",
              "</g>\n",
              "\n",
              "<g class=\"displacy-arrow\">\n",
              "    <path class=\"displacy-arc\" id=\"arrow-8ca883e376da4bd380487622a0aa0d29-0-6\" stroke-width=\"2px\" d=\"M700,137.0 C700,92.0 760.0,92.0 760.0,137.0\" fill=\"none\" stroke=\"currentColor\"/>\n",
              "    <text dy=\"1.25em\" style=\"font-size: 0.8em; letter-spacing: 1px\">\n",
              "        <textPath xlink:href=\"#arrow-8ca883e376da4bd380487622a0aa0d29-0-6\" class=\"displacy-label\" startOffset=\"50%\" side=\"left\" fill=\"currentColor\" text-anchor=\"middle\">mark</textPath>\n",
              "    </text>\n",
              "    <path class=\"displacy-arrowhead\" d=\"M700,139.0 L692,127.0 708,127.0\" fill=\"currentColor\"/>\n",
              "</g>\n",
              "\n",
              "<g class=\"displacy-arrow\">\n",
              "    <path class=\"displacy-arc\" id=\"arrow-8ca883e376da4bd380487622a0aa0d29-0-7\" stroke-width=\"2px\" d=\"M340,137.0 C340,2.0 770.0,2.0 770.0,137.0\" fill=\"none\" stroke=\"currentColor\"/>\n",
              "    <text dy=\"1.25em\" style=\"font-size: 0.8em; letter-spacing: 1px\">\n",
              "        <textPath xlink:href=\"#arrow-8ca883e376da4bd380487622a0aa0d29-0-7\" class=\"displacy-label\" startOffset=\"50%\" side=\"left\" fill=\"currentColor\" text-anchor=\"middle\">conj</textPath>\n",
              "    </text>\n",
              "    <path class=\"displacy-arrowhead\" d=\"M770.0,139.0 L778.0,127.0 762.0,127.0\" fill=\"currentColor\"/>\n",
              "</g>\n",
              "\n",
              "<g class=\"displacy-arrow\">\n",
              "    <path class=\"displacy-arc\" id=\"arrow-8ca883e376da4bd380487622a0aa0d29-0-8\" stroke-width=\"2px\" d=\"M880,137.0 C880,92.0 940.0,92.0 940.0,137.0\" fill=\"none\" stroke=\"currentColor\"/>\n",
              "    <text dy=\"1.25em\" style=\"font-size: 0.8em; letter-spacing: 1px\">\n",
              "        <textPath xlink:href=\"#arrow-8ca883e376da4bd380487622a0aa0d29-0-8\" class=\"displacy-label\" startOffset=\"50%\" side=\"left\" fill=\"currentColor\" text-anchor=\"middle\">case</textPath>\n",
              "    </text>\n",
              "    <path class=\"displacy-arrowhead\" d=\"M880,139.0 L872,127.0 888,127.0\" fill=\"currentColor\"/>\n",
              "</g>\n",
              "\n",
              "<g class=\"displacy-arrow\">\n",
              "    <path class=\"displacy-arc\" id=\"arrow-8ca883e376da4bd380487622a0aa0d29-0-9\" stroke-width=\"2px\" d=\"M790,137.0 C790,47.0 945.0,47.0 945.0,137.0\" fill=\"none\" stroke=\"currentColor\"/>\n",
              "    <text dy=\"1.25em\" style=\"font-size: 0.8em; letter-spacing: 1px\">\n",
              "        <textPath xlink:href=\"#arrow-8ca883e376da4bd380487622a0aa0d29-0-9\" class=\"displacy-label\" startOffset=\"50%\" side=\"left\" fill=\"currentColor\" text-anchor=\"middle\">obl</textPath>\n",
              "    </text>\n",
              "    <path class=\"displacy-arrowhead\" d=\"M945.0,139.0 L953.0,127.0 937.0,127.0\" fill=\"currentColor\"/>\n",
              "</g>\n",
              "</svg>"
            ],
            "text/plain": [
              "<IPython.core.display.HTML object>"
            ]
          },
          "metadata": {
            "tags": []
          }
        }
      ]
    },
    {
      "cell_type": "markdown",
      "metadata": {
        "id": "cd8PYqtyxTt8"
      },
      "source": [
        "# Etapa 7: Semelhanças entre palavras e frases\n",
        "\n",
        "- Verificar se duas palavras são semelhantes ou logicamente relacionadas\n",
        "- Usa o algoritmo GloVe (Global Vectors for Word Representation)\n",
        "- Artigo original: https://nlp.stanford.edu/pubs/glove.pdf"
      ]
    },
    {
      "cell_type": "markdown",
      "metadata": {
        "id": "pLv1PTJz0sks"
      },
      "source": [
        "## Exemplo 1"
      ]
    },
    {
      "cell_type": "code",
      "metadata": {
        "id": "mmYy8Yr7k7hv"
      },
      "source": [
        "p1 = pln(\"olá\")\n",
        "p2 = pln(\"oi\")\n",
        "p3 = pln(\"ou\")"
      ],
      "execution_count": null,
      "outputs": []
    },
    {
      "cell_type": "code",
      "metadata": {
        "id": "SCN4W5uxlFXq",
        "colab": {
          "base_uri": "https://localhost:8080/"
        },
        "outputId": "365f15c7-9767-4f8d-cc81-56b040f075f4"
      },
      "source": [
        "p1.similarity(p2)"
      ],
      "execution_count": null,
      "outputs": [
        {
          "output_type": "stream",
          "text": [
            "/usr/lib/python3.7/runpy.py:193: ModelsWarning: [W007] The model you're using has no word vectors loaded, so the result of the Doc.similarity method will be based on the tagger, parser and NER, which may not give useful similarity judgements. This may happen if you're using one of the small models, e.g. `en_core_web_sm`, which don't ship with word vectors and only use context-sensitive tensors. You can always add your own word vectors, or use one of the larger models instead if available.\n",
            "  \"__main__\", mod_spec)\n"
          ],
          "name": "stderr"
        },
        {
          "output_type": "execute_result",
          "data": {
            "text/plain": [
              "0.825847027174465"
            ]
          },
          "metadata": {
            "tags": []
          },
          "execution_count": 59
        }
      ]
    },
    {
      "cell_type": "code",
      "metadata": {
        "id": "ayx-A8bnlXwn",
        "colab": {
          "base_uri": "https://localhost:8080/"
        },
        "outputId": "894f8683-0742-40a3-ae1e-972e003bfb76"
      },
      "source": [
        "p2.similarity(p1)"
      ],
      "execution_count": null,
      "outputs": [
        {
          "output_type": "stream",
          "text": [
            "/usr/lib/python3.7/runpy.py:193: ModelsWarning: [W007] The model you're using has no word vectors loaded, so the result of the Doc.similarity method will be based on the tagger, parser and NER, which may not give useful similarity judgements. This may happen if you're using one of the small models, e.g. `en_core_web_sm`, which don't ship with word vectors and only use context-sensitive tensors. You can always add your own word vectors, or use one of the larger models instead if available.\n",
            "  \"__main__\", mod_spec)\n"
          ],
          "name": "stderr"
        },
        {
          "output_type": "execute_result",
          "data": {
            "text/plain": [
              "0.825847027174465"
            ]
          },
          "metadata": {
            "tags": []
          },
          "execution_count": 60
        }
      ]
    },
    {
      "cell_type": "code",
      "metadata": {
        "id": "HWCoEOollco1",
        "colab": {
          "base_uri": "https://localhost:8080/"
        },
        "outputId": "44145fd1-296e-451b-a54c-81b2245fe123"
      },
      "source": [
        "p1.similarity(p3)"
      ],
      "execution_count": null,
      "outputs": [
        {
          "output_type": "stream",
          "text": [
            "/usr/lib/python3.7/runpy.py:193: ModelsWarning: [W007] The model you're using has no word vectors loaded, so the result of the Doc.similarity method will be based on the tagger, parser and NER, which may not give useful similarity judgements. This may happen if you're using one of the small models, e.g. `en_core_web_sm`, which don't ship with word vectors and only use context-sensitive tensors. You can always add your own word vectors, or use one of the larger models instead if available.\n",
            "  \"__main__\", mod_spec)\n"
          ],
          "name": "stderr"
        },
        {
          "output_type": "execute_result",
          "data": {
            "text/plain": [
              "0.5566860956596927"
            ]
          },
          "metadata": {
            "tags": []
          },
          "execution_count": 61
        }
      ]
    },
    {
      "cell_type": "code",
      "metadata": {
        "id": "qCwXOf2wlm3-",
        "colab": {
          "base_uri": "https://localhost:8080/"
        },
        "outputId": "da5764a1-b7b5-4a9c-afa9-423c47b60027"
      },
      "source": [
        "p2.similarity(p3)"
      ],
      "execution_count": null,
      "outputs": [
        {
          "output_type": "stream",
          "text": [
            "/usr/lib/python3.7/runpy.py:193: ModelsWarning: [W007] The model you're using has no word vectors loaded, so the result of the Doc.similarity method will be based on the tagger, parser and NER, which may not give useful similarity judgements. This may happen if you're using one of the small models, e.g. `en_core_web_sm`, which don't ship with word vectors and only use context-sensitive tensors. You can always add your own word vectors, or use one of the larger models instead if available.\n",
            "  \"__main__\", mod_spec)\n"
          ],
          "name": "stderr"
        },
        {
          "output_type": "execute_result",
          "data": {
            "text/plain": [
              "0.5912282843406211"
            ]
          },
          "metadata": {
            "tags": []
          },
          "execution_count": 62
        }
      ]
    },
    {
      "cell_type": "code",
      "metadata": {
        "id": "L-D7aABslwTa"
      },
      "source": [
        "texto1 = pln('Quando será lançado o novo filme?')\n",
        "texto2 = pln('O novo filme será lançado mês que vem')\n",
        "texto3 = pln('Qual a cor do carro?')"
      ],
      "execution_count": null,
      "outputs": []
    },
    {
      "cell_type": "code",
      "metadata": {
        "id": "tRPBcAail9-Q",
        "colab": {
          "base_uri": "https://localhost:8080/"
        },
        "outputId": "165d05d2-0fba-4ea7-abf0-30a3fc83c7f1"
      },
      "source": [
        "texto1.similarity(texto2)"
      ],
      "execution_count": null,
      "outputs": [
        {
          "output_type": "stream",
          "text": [
            "/usr/lib/python3.7/runpy.py:193: ModelsWarning: [W007] The model you're using has no word vectors loaded, so the result of the Doc.similarity method will be based on the tagger, parser and NER, which may not give useful similarity judgements. This may happen if you're using one of the small models, e.g. `en_core_web_sm`, which don't ship with word vectors and only use context-sensitive tensors. You can always add your own word vectors, or use one of the larger models instead if available.\n",
            "  \"__main__\", mod_spec)\n"
          ],
          "name": "stderr"
        },
        {
          "output_type": "execute_result",
          "data": {
            "text/plain": [
              "0.795425093394398"
            ]
          },
          "metadata": {
            "tags": []
          },
          "execution_count": 64
        }
      ]
    },
    {
      "cell_type": "code",
      "metadata": {
        "id": "V1ggTh34mCjh",
        "colab": {
          "base_uri": "https://localhost:8080/"
        },
        "outputId": "8c449ce6-d6a3-4317-ed37-aebf46b80f38"
      },
      "source": [
        "texto1.similarity(texto3)"
      ],
      "execution_count": null,
      "outputs": [
        {
          "output_type": "stream",
          "text": [
            "/usr/lib/python3.7/runpy.py:193: ModelsWarning: [W007] The model you're using has no word vectors loaded, so the result of the Doc.similarity method will be based on the tagger, parser and NER, which may not give useful similarity judgements. This may happen if you're using one of the small models, e.g. `en_core_web_sm`, which don't ship with word vectors and only use context-sensitive tensors. You can always add your own word vectors, or use one of the larger models instead if available.\n",
            "  \"__main__\", mod_spec)\n"
          ],
          "name": "stderr"
        },
        {
          "output_type": "execute_result",
          "data": {
            "text/plain": [
              "0.66867394624965"
            ]
          },
          "metadata": {
            "tags": []
          },
          "execution_count": 65
        }
      ]
    },
    {
      "cell_type": "markdown",
      "metadata": {
        "id": "c0CVDr5W0wkK"
      },
      "source": [
        "## Exemplo 2"
      ]
    },
    {
      "cell_type": "code",
      "metadata": {
        "id": "OWCYOxSkmp_i"
      },
      "source": [
        "texto = pln('gato cachorro cavalo pessoa')"
      ],
      "execution_count": null,
      "outputs": []
    },
    {
      "cell_type": "code",
      "metadata": {
        "id": "Pbk3ZPIOmypr",
        "colab": {
          "base_uri": "https://localhost:8080/"
        },
        "outputId": "bda85025-a0be-42f9-d89f-2b91ceaddcbc"
      },
      "source": [
        "for texto1 in texto:\n",
        "  #print('----', texto1)\n",
        "  for texto2 in texto:\n",
        "    #print(texto2)\n",
        "    similaridade = int(texto1.similarity(texto2) * 100)\n",
        "    print(\"{} é {} similar a {}\".format(texto1, similaridade, texto2))"
      ],
      "execution_count": null,
      "outputs": [
        {
          "output_type": "stream",
          "text": [
            "gato é 100 similar a gato\n",
            "gato é 45 similar a cachorro\n",
            "gato é 30 similar a cavalo\n",
            "gato é 11 similar a pessoa\n",
            "cachorro é 45 similar a gato\n",
            "cachorro é 100 similar a cachorro\n",
            "cachorro é 56 similar a cavalo\n",
            "cachorro é 31 similar a pessoa\n",
            "cavalo é 30 similar a gato\n",
            "cavalo é 56 similar a cachorro\n",
            "cavalo é 100 similar a cavalo\n",
            "cavalo é 32 similar a pessoa\n",
            "pessoa é 11 similar a gato\n",
            "pessoa é 31 similar a cachorro\n",
            "pessoa é 32 similar a cavalo\n",
            "pessoa é 100 similar a pessoa\n"
          ],
          "name": "stdout"
        },
        {
          "output_type": "stream",
          "text": [
            "/usr/lib/python3.7/runpy.py:193: ModelsWarning: [W007] The model you're using has no word vectors loaded, so the result of the Token.similarity method will be based on the tagger, parser and NER, which may not give useful similarity judgements. This may happen if you're using one of the small models, e.g. `en_core_web_sm`, which don't ship with word vectors and only use context-sensitive tensors. You can always add your own word vectors, or use one of the larger models instead if available.\n",
            "  \"__main__\", mod_spec)\n",
            "/usr/lib/python3.7/runpy.py:193: ModelsWarning: [W007] The model you're using has no word vectors loaded, so the result of the Token.similarity method will be based on the tagger, parser and NER, which may not give useful similarity judgements. This may happen if you're using one of the small models, e.g. `en_core_web_sm`, which don't ship with word vectors and only use context-sensitive tensors. You can always add your own word vectors, or use one of the larger models instead if available.\n",
            "  \"__main__\", mod_spec)\n",
            "/usr/lib/python3.7/runpy.py:193: ModelsWarning: [W007] The model you're using has no word vectors loaded, so the result of the Token.similarity method will be based on the tagger, parser and NER, which may not give useful similarity judgements. This may happen if you're using one of the small models, e.g. `en_core_web_sm`, which don't ship with word vectors and only use context-sensitive tensors. You can always add your own word vectors, or use one of the larger models instead if available.\n",
            "  \"__main__\", mod_spec)\n",
            "/usr/lib/python3.7/runpy.py:193: ModelsWarning: [W007] The model you're using has no word vectors loaded, so the result of the Token.similarity method will be based on the tagger, parser and NER, which may not give useful similarity judgements. This may happen if you're using one of the small models, e.g. `en_core_web_sm`, which don't ship with word vectors and only use context-sensitive tensors. You can always add your own word vectors, or use one of the larger models instead if available.\n",
            "  \"__main__\", mod_spec)\n",
            "/usr/lib/python3.7/runpy.py:193: ModelsWarning: [W007] The model you're using has no word vectors loaded, so the result of the Token.similarity method will be based on the tagger, parser and NER, which may not give useful similarity judgements. This may happen if you're using one of the small models, e.g. `en_core_web_sm`, which don't ship with word vectors and only use context-sensitive tensors. You can always add your own word vectors, or use one of the larger models instead if available.\n",
            "  \"__main__\", mod_spec)\n",
            "/usr/lib/python3.7/runpy.py:193: ModelsWarning: [W007] The model you're using has no word vectors loaded, so the result of the Token.similarity method will be based on the tagger, parser and NER, which may not give useful similarity judgements. This may happen if you're using one of the small models, e.g. `en_core_web_sm`, which don't ship with word vectors and only use context-sensitive tensors. You can always add your own word vectors, or use one of the larger models instead if available.\n",
            "  \"__main__\", mod_spec)\n",
            "/usr/lib/python3.7/runpy.py:193: ModelsWarning: [W007] The model you're using has no word vectors loaded, so the result of the Token.similarity method will be based on the tagger, parser and NER, which may not give useful similarity judgements. This may happen if you're using one of the small models, e.g. `en_core_web_sm`, which don't ship with word vectors and only use context-sensitive tensors. You can always add your own word vectors, or use one of the larger models instead if available.\n",
            "  \"__main__\", mod_spec)\n",
            "/usr/lib/python3.7/runpy.py:193: ModelsWarning: [W007] The model you're using has no word vectors loaded, so the result of the Token.similarity method will be based on the tagger, parser and NER, which may not give useful similarity judgements. This may happen if you're using one of the small models, e.g. `en_core_web_sm`, which don't ship with word vectors and only use context-sensitive tensors. You can always add your own word vectors, or use one of the larger models instead if available.\n",
            "  \"__main__\", mod_spec)\n",
            "/usr/lib/python3.7/runpy.py:193: ModelsWarning: [W007] The model you're using has no word vectors loaded, so the result of the Token.similarity method will be based on the tagger, parser and NER, which may not give useful similarity judgements. This may happen if you're using one of the small models, e.g. `en_core_web_sm`, which don't ship with word vectors and only use context-sensitive tensors. You can always add your own word vectors, or use one of the larger models instead if available.\n",
            "  \"__main__\", mod_spec)\n",
            "/usr/lib/python3.7/runpy.py:193: ModelsWarning: [W007] The model you're using has no word vectors loaded, so the result of the Token.similarity method will be based on the tagger, parser and NER, which may not give useful similarity judgements. This may happen if you're using one of the small models, e.g. `en_core_web_sm`, which don't ship with word vectors and only use context-sensitive tensors. You can always add your own word vectors, or use one of the larger models instead if available.\n",
            "  \"__main__\", mod_spec)\n",
            "/usr/lib/python3.7/runpy.py:193: ModelsWarning: [W007] The model you're using has no word vectors loaded, so the result of the Token.similarity method will be based on the tagger, parser and NER, which may not give useful similarity judgements. This may happen if you're using one of the small models, e.g. `en_core_web_sm`, which don't ship with word vectors and only use context-sensitive tensors. You can always add your own word vectors, or use one of the larger models instead if available.\n",
            "  \"__main__\", mod_spec)\n",
            "/usr/lib/python3.7/runpy.py:193: ModelsWarning: [W007] The model you're using has no word vectors loaded, so the result of the Token.similarity method will be based on the tagger, parser and NER, which may not give useful similarity judgements. This may happen if you're using one of the small models, e.g. `en_core_web_sm`, which don't ship with word vectors and only use context-sensitive tensors. You can always add your own word vectors, or use one of the larger models instead if available.\n",
            "  \"__main__\", mod_spec)\n"
          ],
          "name": "stderr"
        }
      ]
    },
    {
      "cell_type": "markdown",
      "metadata": {
        "id": "zcgAkuB346vV"
      },
      "source": [
        "# Etapa 8: Tokenização"
      ]
    },
    {
      "cell_type": "code",
      "metadata": {
        "id": "mZuGK8j_n8WB"
      },
      "source": [
        "documento = pln('Estou aprendendo processamento de linguagem natural, curso em Curitiba')"
      ],
      "execution_count": null,
      "outputs": []
    },
    {
      "cell_type": "code",
      "metadata": {
        "id": "dtr3c4WEoA0c",
        "colab": {
          "base_uri": "https://localhost:8080/"
        },
        "outputId": "f1e22e9d-1b3c-4376-a6ed-7a4b23409d0c"
      },
      "source": [
        "for token in documento:\n",
        "  print(token)"
      ],
      "execution_count": null,
      "outputs": [
        {
          "output_type": "stream",
          "text": [
            "Estou\n",
            "aprendendo\n",
            "processamento\n",
            "de\n",
            "linguagem\n",
            "natural\n",
            ",\n",
            "curso\n",
            "em\n",
            "Curitiba\n"
          ],
          "name": "stdout"
        }
      ]
    },
    {
      "cell_type": "code",
      "metadata": {
        "id": "F0D5zthsoJi3",
        "colab": {
          "base_uri": "https://localhost:8080/"
        },
        "outputId": "f7053fa0-11b8-4550-c15c-439e8dcd0452"
      },
      "source": [
        "documento1 = 'Estou aprendendo processamento de linguagem natural, curso em Curitiba'\n",
        "documento1.split(' ')"
      ],
      "execution_count": null,
      "outputs": [
        {
          "output_type": "execute_result",
          "data": {
            "text/plain": [
              "['Estou',\n",
              " 'aprendendo',\n",
              " 'processamento',\n",
              " 'de',\n",
              " 'linguagem',\n",
              " 'natural,',\n",
              " 'curso',\n",
              " 'em',\n",
              " 'Curitiba']"
            ]
          },
          "metadata": {
            "tags": []
          },
          "execution_count": 70
        }
      ]
    }
  ]
}