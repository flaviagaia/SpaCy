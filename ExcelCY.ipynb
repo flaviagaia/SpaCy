{
  "nbformat": 4,
  "nbformat_minor": 0,
  "metadata": {
    "colab": {
      "name": "ExcelCY.ipynb",
      "provenance": [],
      "authorship_tag": "ABX9TyPW91HUks4siZe8UQHhfuF5",
      "include_colab_link": true
    },
    "kernelspec": {
      "name": "python3",
      "display_name": "Python 3"
    },
    "language_info": {
      "name": "python"
    }
  },
  "cells": [
    {
      "cell_type": "markdown",
      "metadata": {
        "id": "view-in-github",
        "colab_type": "text"
      },
      "source": [
        "<a href=\"https://colab.research.google.com/github/flaviagaia/SpaCy/blob/main/ExcelCY.ipynb\" target=\"_parent\"><img src=\"https://colab.research.google.com/assets/colab-badge.svg\" alt=\"Open In Colab\"/></a>"
      ]
    },
    {
      "cell_type": "markdown",
      "metadata": {
        "id": "AyT8ji9NLFW-"
      },
      "source": [
        "# **Excel to TRAIN SPACY**\n",
        "\n",
        "https://spacy.io/universe/project/excelcy"
      ]
    },
    {
      "cell_type": "code",
      "metadata": {
        "id": "gieZKi7AH12I"
      },
      "source": [
        "!pip install -q spacy==2.3.7"
      ],
      "execution_count": null,
      "outputs": []
    },
    {
      "cell_type": "code",
      "metadata": {
        "colab": {
          "base_uri": "https://localhost:8080/"
        },
        "id": "B5DK-jPIHlie",
        "outputId": "0fccf816-b7c3-4ec2-9e81-95460c57214c"
      },
      "source": [
        "# Português\n",
        "!python -m spacy download pt_core_news_sm\n",
        "!python -m spacy download pt"
      ],
      "execution_count": null,
      "outputs": [
        {
          "output_type": "stream",
          "text": [
            "Traceback (most recent call last):\n",
            "  File \"/usr/lib/python3.7/runpy.py\", line 193, in _run_module_as_main\n",
            "    \"__main__\", mod_spec)\n",
            "  File \"/usr/lib/python3.7/runpy.py\", line 85, in _run_code\n",
            "    exec(code, run_globals)\n",
            "  File \"/usr/local/lib/python3.7/dist-packages/pip/__main__.py\", line 29, in <module>\n",
            "Traceback (most recent call last):\n",
            "  File \"/usr/lib/python3.7/subprocess.py\", line 1019, in wait\n",
            "    return self._wait(timeout=timeout)\n",
            "  File \"/usr/lib/python3.7/subprocess.py\", line 1653, in _wait\n",
            "    (pid, sts) = self._try_wait(0)\n",
            "  File \"/usr/lib/python3.7/subprocess.py\", line 1611, in _try_wait\n",
            "    (pid, sts) = os.waitpid(self.pid, wait_flags)\n",
            "KeyboardInterrupt\n",
            "\n",
            "During handling of the above exception, another exception occurred:\n",
            "\n",
            "Traceback (most recent call last):\n",
            "  File \"/usr/lib/python3.7/runpy.py\", line 193, in _run_module_as_main\n",
            "    \"__main__\", mod_spec)\n",
            "  File \"/usr/lib/python3.7/runpy.py\", line 85, in _run_code\n",
            "    exec(code, run_globals)\n",
            "  File \"/usr/local/lib/python3.7/dist-packages/spacy/__main__.py\", line 33, in <module>\n",
            "    plac.call(commands[command], sys.argv[1:])\n",
            "  File \"/usr/local/lib/python3.7/dist-packages/plac_core.py\", line 328, in call\n",
            "    cmd, result = parser.consume(arglist)\n",
            "  File \"/usr/local/lib/python3.7/dist-packages/plac_core.py\", line 207, in consume\n",
            "    return cmd, self.func(*(args + varargs + extraopts), **kwargs)\n",
            "  File \"/usr/local/lib/python3.7/dist-packages/spacy/cli/download.py\", line 48, in download\n",
            "    dl = download_model(dl_tpl.format(m=model_name, v=version), pip_args)\n",
            "  File \"/usr/local/lib/python3.7/dist-packages/spacy/cli/download.py\", line 133, in download_model\n",
            "    return subprocess.call(cmd, env=os.environ.copy())\n",
            "  File \"/usr/lib/python3.7/subprocess.py\", line 341, in call\n",
            "    return p.wait(timeout=timeout)\n",
            "  File \"/usr/lib/python3.7/subprocess.py\", line 1032, in wait\n",
            "    self._wait(timeout=sigint_timeout)\n",
            "  File \"/usr/lib/python3.7/subprocess.py\", line 1647, in _wait\n",
            "    time.sleep(delay)\n",
            "KeyboardInterrupt\n",
            "Collecting pt_core_news_sm==2.3.0\n",
            "  Using cached pt_core_news_sm-2.3.0-py3-none-any.whl\n",
            "Requirement already satisfied: spacy<2.4.0,>=2.3.0 in /usr/local/lib/python3.7/dist-packages (from pt_core_news_sm==2.3.0) (2.3.7)\n",
            "Requirement already satisfied: thinc<7.5.0,>=7.4.1 in /usr/local/lib/python3.7/dist-packages (from spacy<2.4.0,>=2.3.0->pt_core_news_sm==2.3.0) (7.4.5)\n",
            "Requirement already satisfied: tqdm<5.0.0,>=4.38.0 in /usr/local/lib/python3.7/dist-packages (from spacy<2.4.0,>=2.3.0->pt_core_news_sm==2.3.0) (4.41.1)\n",
            "Requirement already satisfied: setuptools in /usr/local/lib/python3.7/dist-packages (from spacy<2.4.0,>=2.3.0->pt_core_news_sm==2.3.0) (57.2.0)\n",
            "Requirement already satisfied: plac<1.2.0,>=0.9.6 in /usr/local/lib/python3.7/dist-packages (from spacy<2.4.0,>=2.3.0->pt_core_news_sm==2.3.0) (0.9.6)\n",
            "Requirement already satisfied: catalogue<1.1.0,>=0.0.7 in /usr/local/lib/python3.7/dist-packages (from spacy<2.4.0,>=2.3.0->pt_core_news_sm==2.3.0) (1.0.0)\n",
            "Requirement already satisfied: srsly<1.1.0,>=1.0.2 in /usr/local/lib/python3.7/dist-packages (from spacy<2.4.0,>=2.3.0->pt_core_news_sm==2.3.0) (1.0.5)\n",
            "Requirement already satisfied: numpy>=1.15.0 in /usr/local/lib/python3.7/dist-packages (from spacy<2.4.0,>=2.3.0->pt_core_news_sm==2.3.0) (1.19.5)\n",
            "Requirement already satisfied: blis<0.8.0,>=0.4.0 in /usr/local/lib/python3.7/dist-packages (from spacy<2.4.0,>=2.3.0->pt_core_news_sm==2.3.0) (0.7.4)\n",
            "Requirement already satisfied: cymem<2.1.0,>=2.0.2 in /usr/local/lib/python3.7/dist-packages (from spacy<2.4.0,>=2.3.0->pt_core_news_sm==2.3.0) (2.0.5)\n",
            "Requirement already satisfied: wasabi<1.1.0,>=0.4.0 in /usr/local/lib/python3.7/dist-packages (from spacy<2.4.0,>=2.3.0->pt_core_news_sm==2.3.0) (0.8.2)\n",
            "Requirement already satisfied: preshed<3.1.0,>=3.0.2 in /usr/local/lib/python3.7/dist-packages (from spacy<2.4.0,>=2.3.0->pt_core_news_sm==2.3.0) (3.0.5)\n",
            "Requirement already satisfied: requests<3.0.0,>=2.13.0 in /usr/local/lib/python3.7/dist-packages (from spacy<2.4.0,>=2.3.0->pt_core_news_sm==2.3.0) (2.23.0)\n",
            "Requirement already satisfied: murmurhash<1.1.0,>=0.28.0 in /usr/local/lib/python3.7/dist-packages (from spacy<2.4.0,>=2.3.0->pt_core_news_sm==2.3.0) (1.0.5)\n",
            "Requirement already satisfied: importlib-metadata>=0.20 in /usr/local/lib/python3.7/dist-packages (from catalogue<1.1.0,>=0.0.7->spacy<2.4.0,>=2.3.0->pt_core_news_sm==2.3.0) (4.6.1)\n",
            "Requirement already satisfied: zipp>=0.5 in /usr/local/lib/python3.7/dist-packages (from importlib-metadata>=0.20->catalogue<1.1.0,>=0.0.7->spacy<2.4.0,>=2.3.0->pt_core_news_sm==2.3.0) (3.5.0)\n",
            "Requirement already satisfied: typing-extensions>=3.6.4 in /usr/local/lib/python3.7/dist-packages (from importlib-metadata>=0.20->catalogue<1.1.0,>=0.0.7->spacy<2.4.0,>=2.3.0->pt_core_news_sm==2.3.0) (3.7.4.3)\n",
            "Requirement already satisfied: chardet<4,>=3.0.2 in /usr/local/lib/python3.7/dist-packages (from requests<3.0.0,>=2.13.0->spacy<2.4.0,>=2.3.0->pt_core_news_sm==2.3.0) (3.0.4)\n",
            "Requirement already satisfied: idna<3,>=2.5 in /usr/local/lib/python3.7/dist-packages (from requests<3.0.0,>=2.13.0->spacy<2.4.0,>=2.3.0->pt_core_news_sm==2.3.0) (2.10)\n",
            "Requirement already satisfied: urllib3!=1.25.0,!=1.25.1,<1.26,>=1.21.1 in /usr/local/lib/python3.7/dist-packages (from requests<3.0.0,>=2.13.0->spacy<2.4.0,>=2.3.0->pt_core_news_sm==2.3.0) (1.24.3)\n",
            "Requirement already satisfied: certifi>=2017.4.17 in /usr/local/lib/python3.7/dist-packages (from requests<3.0.0,>=2.13.0->spacy<2.4.0,>=2.3.0->pt_core_news_sm==2.3.0) (2021.5.30)\n",
            "Installing collected packages: pt-core-news-sm\n",
            "  Attempting uninstall: pt-core-news-sm\n",
            "    Found existing installation: pt-core-news-sm 2.1.0\n",
            "    Uninstalling pt-core-news-sm-2.1.0:\n",
            "      Successfully uninstalled pt-core-news-sm-2.1.0\n",
            "Successfully installed pt-core-news-sm-2.3.0\n",
            "\u001b[38;5;2m✔ Download and installation successful\u001b[0m\n",
            "You can now load the model via spacy.load('pt_core_news_sm')\n",
            "\u001b[38;5;2m✔ Linking successful\u001b[0m\n",
            "/usr/local/lib/python3.7/dist-packages/pt_core_news_sm -->\n",
            "/usr/local/lib/python3.7/dist-packages/spacy/data/pt\n",
            "You can now load the model via spacy.load('pt')\n"
          ],
          "name": "stdout"
        }
      ]
    },
    {
      "cell_type": "code",
      "metadata": {
        "colab": {
          "base_uri": "https://localhost:8080/"
        },
        "id": "mA61ok38Hjr1",
        "outputId": "9f2b4d77-bb9b-4031-81e6-fc59df4838c5"
      },
      "source": [
        "!pip install excelcy"
      ],
      "execution_count": null,
      "outputs": [
        {
          "output_type": "stream",
          "text": [
            "Requirement already satisfied: excelcy in /usr/local/lib/python3.7/dist-packages (0.4.1)\n",
            "Requirement already satisfied: pytest<6.0.0,>=5.4.3 in /usr/local/lib/python3.7/dist-packages (from excelcy) (5.4.3)\n",
            "Requirement already satisfied: pyyaml<6.0.0,>=5.3.1 in /usr/local/lib/python3.7/dist-packages (from excelcy) (5.4.1)\n",
            "Requirement already satisfied: pyexcel<0.7.0,>=0.6.4 in /usr/local/lib/python3.7/dist-packages (from excelcy) (0.6.6)\n",
            "Requirement already satisfied: pytest-cov<3.0,>=2.0 in /usr/local/lib/python3.7/dist-packages (from excelcy) (2.12.1)\n",
            "Requirement already satisfied: attrs<21.0.0,>=20.1.0 in /usr/local/lib/python3.7/dist-packages (from excelcy) (20.3.0)\n",
            "Requirement already satisfied: spacy<3.0.0,>=2.3.2 in /usr/local/lib/python3.7/dist-packages (from excelcy) (2.3.7)\n",
            "Requirement already satisfied: pyexcel-xlsx<0.6.0,>=0.5.8 in /usr/local/lib/python3.7/dist-packages (from excelcy) (0.5.8)\n",
            "Requirement already satisfied: lml>=0.0.4 in /usr/local/lib/python3.7/dist-packages (from pyexcel<0.7.0,>=0.6.4->excelcy) (0.1.0)\n",
            "Requirement already satisfied: texttable>=0.8.2 in /usr/local/lib/python3.7/dist-packages (from pyexcel<0.7.0,>=0.6.4->excelcy) (1.6.4)\n",
            "Requirement already satisfied: pyexcel-io>=0.6.2 in /usr/local/lib/python3.7/dist-packages (from pyexcel<0.7.0,>=0.6.4->excelcy) (0.6.4)\n",
            "Requirement already satisfied: openpyxl>=2.6.1 in /usr/local/lib/python3.7/dist-packages (from pyexcel-xlsx<0.6.0,>=0.5.8->excelcy) (3.0.7)\n",
            "Requirement already satisfied: et-xmlfile in /usr/local/lib/python3.7/dist-packages (from openpyxl>=2.6.1->pyexcel-xlsx<0.6.0,>=0.5.8->excelcy) (1.1.0)\n",
            "Requirement already satisfied: packaging in /usr/local/lib/python3.7/dist-packages (from pytest<6.0.0,>=5.4.3->excelcy) (21.0)\n",
            "Requirement already satisfied: wcwidth in /usr/local/lib/python3.7/dist-packages (from pytest<6.0.0,>=5.4.3->excelcy) (0.2.5)\n",
            "Requirement already satisfied: pluggy<1.0,>=0.12 in /usr/local/lib/python3.7/dist-packages (from pytest<6.0.0,>=5.4.3->excelcy) (0.13.1)\n",
            "Requirement already satisfied: more-itertools>=4.0.0 in /usr/local/lib/python3.7/dist-packages (from pytest<6.0.0,>=5.4.3->excelcy) (8.8.0)\n",
            "Requirement already satisfied: importlib-metadata>=0.12 in /usr/local/lib/python3.7/dist-packages (from pytest<6.0.0,>=5.4.3->excelcy) (4.6.1)\n",
            "Requirement already satisfied: py>=1.5.0 in /usr/local/lib/python3.7/dist-packages (from pytest<6.0.0,>=5.4.3->excelcy) (1.10.0)\n",
            "Requirement already satisfied: zipp>=0.5 in /usr/local/lib/python3.7/dist-packages (from importlib-metadata>=0.12->pytest<6.0.0,>=5.4.3->excelcy) (3.5.0)\n",
            "Requirement already satisfied: typing-extensions>=3.6.4 in /usr/local/lib/python3.7/dist-packages (from importlib-metadata>=0.12->pytest<6.0.0,>=5.4.3->excelcy) (3.7.4.3)\n",
            "Requirement already satisfied: coverage>=5.2.1 in /usr/local/lib/python3.7/dist-packages (from pytest-cov<3.0,>=2.0->excelcy) (5.5)\n",
            "Requirement already satisfied: toml in /usr/local/lib/python3.7/dist-packages (from pytest-cov<3.0,>=2.0->excelcy) (0.10.2)\n",
            "Requirement already satisfied: cymem<2.1.0,>=2.0.2 in /usr/local/lib/python3.7/dist-packages (from spacy<3.0.0,>=2.3.2->excelcy) (2.0.5)\n",
            "Requirement already satisfied: catalogue<1.1.0,>=0.0.7 in /usr/local/lib/python3.7/dist-packages (from spacy<3.0.0,>=2.3.2->excelcy) (1.0.0)\n",
            "Requirement already satisfied: setuptools in /usr/local/lib/python3.7/dist-packages (from spacy<3.0.0,>=2.3.2->excelcy) (57.2.0)\n",
            "Requirement already satisfied: srsly<1.1.0,>=1.0.2 in /usr/local/lib/python3.7/dist-packages (from spacy<3.0.0,>=2.3.2->excelcy) (1.0.5)\n",
            "Requirement already satisfied: requests<3.0.0,>=2.13.0 in /usr/local/lib/python3.7/dist-packages (from spacy<3.0.0,>=2.3.2->excelcy) (2.23.0)\n",
            "Requirement already satisfied: tqdm<5.0.0,>=4.38.0 in /usr/local/lib/python3.7/dist-packages (from spacy<3.0.0,>=2.3.2->excelcy) (4.41.1)\n",
            "Requirement already satisfied: numpy>=1.15.0 in /usr/local/lib/python3.7/dist-packages (from spacy<3.0.0,>=2.3.2->excelcy) (1.19.5)\n",
            "Requirement already satisfied: wasabi<1.1.0,>=0.4.0 in /usr/local/lib/python3.7/dist-packages (from spacy<3.0.0,>=2.3.2->excelcy) (0.8.2)\n",
            "Requirement already satisfied: preshed<3.1.0,>=3.0.2 in /usr/local/lib/python3.7/dist-packages (from spacy<3.0.0,>=2.3.2->excelcy) (3.0.5)\n",
            "Requirement already satisfied: murmurhash<1.1.0,>=0.28.0 in /usr/local/lib/python3.7/dist-packages (from spacy<3.0.0,>=2.3.2->excelcy) (1.0.5)\n",
            "Requirement already satisfied: plac<1.2.0,>=0.9.6 in /usr/local/lib/python3.7/dist-packages (from spacy<3.0.0,>=2.3.2->excelcy) (0.9.6)\n",
            "Requirement already satisfied: thinc<7.5.0,>=7.4.1 in /usr/local/lib/python3.7/dist-packages (from spacy<3.0.0,>=2.3.2->excelcy) (7.4.5)\n",
            "Requirement already satisfied: blis<0.8.0,>=0.4.0 in /usr/local/lib/python3.7/dist-packages (from spacy<3.0.0,>=2.3.2->excelcy) (0.7.4)\n",
            "Requirement already satisfied: urllib3!=1.25.0,!=1.25.1,<1.26,>=1.21.1 in /usr/local/lib/python3.7/dist-packages (from requests<3.0.0,>=2.13.0->spacy<3.0.0,>=2.3.2->excelcy) (1.24.3)\n",
            "Requirement already satisfied: chardet<4,>=3.0.2 in /usr/local/lib/python3.7/dist-packages (from requests<3.0.0,>=2.13.0->spacy<3.0.0,>=2.3.2->excelcy) (3.0.4)\n",
            "Requirement already satisfied: idna<3,>=2.5 in /usr/local/lib/python3.7/dist-packages (from requests<3.0.0,>=2.13.0->spacy<3.0.0,>=2.3.2->excelcy) (2.10)\n",
            "Requirement already satisfied: certifi>=2017.4.17 in /usr/local/lib/python3.7/dist-packages (from requests<3.0.0,>=2.13.0->spacy<3.0.0,>=2.3.2->excelcy) (2021.5.30)\n",
            "Requirement already satisfied: pyparsing>=2.0.2 in /usr/local/lib/python3.7/dist-packages (from packaging->pytest<6.0.0,>=5.4.3->excelcy) (2.4.7)\n"
          ],
          "name": "stdout"
        }
      ]
    },
    {
      "cell_type": "markdown",
      "metadata": {
        "id": "-tsU7wrvNQUn"
      },
      "source": [
        "# **Como treinar Spacy NER**"
      ]
    },
    {
      "cell_type": "markdown",
      "metadata": {
        "id": "YQ946kGqOVXG"
      },
      "source": [
        "fazer junto ou separado\n",
        "\n",
        "arrumar o excel e passar o scrip frases para alimentar essse excel"
      ]
    },
    {
      "cell_type": "markdown",
      "metadata": {
        "id": "9cUv5iTLNUeo"
      },
      "source": [
        "# **TRAIN_DATA**"
      ]
    },
    {
      "cell_type": "code",
      "metadata": {
        "colab": {
          "base_uri": "https://localhost:8080/"
        },
        "id": "NbWaSQr-G0fz",
        "outputId": "095a621a-2742-4a41-e12b-008231309cdf"
      },
      "source": [
        "# Import\n",
        "from excelcy import ExcelCy\n",
        "excelcy = ExcelCy()\n",
        "# Como funciona antes do treinamento:\n",
        "doc = excelcy.nlp('Bolsonaro é o presidente do Brasil')\n",
        "print([(ent.label_, ent.text) for ent in doc.ents])\n",
        "\n",
        "# Excelcy entra em ação para melhorar o treinamento via excel:\n",
        "excelcy = ExcelCy.execute(file_path= '/content/test_data_01.xlsx')\n",
        "# use the nlp object as per spaCy API\n",
        "doc = excelcy.nlp('Bolsonaro é o presidente do Brasil')\n",
        "# Vendo se o treinamento funcionou:\n",
        "print([(ent.label_, ent.text) for ent in doc.ents])"
      ],
      "execution_count": null,
      "outputs": [
        {
          "output_type": "stream",
          "text": [
            "/usr/local/lib/python3.7/dist-packages/spacy/util.py:275: UserWarning: [W031] Model 'en_core_web_sm' (2.2.5) requires spaCy v2.2 and is incompatible with the current spaCy version (2.3.7). This may lead to unexpected results or runtime errors. To resolve this, download a newer compatible model or retrain your custom model with the current spaCy version. For more details and available updates, run: python -m spacy validate\n",
            "  warnings.warn(warn_msg)\n"
          ],
          "name": "stderr"
        },
        {
          "output_type": "stream",
          "text": [
            "[('PERSON', 'Bolsonaro')]\n"
          ],
          "name": "stdout"
        },
        {
          "output_type": "stream",
          "text": [
            "/usr/local/lib/python3.7/dist-packages/pyexcel_io/book.py:32: UserWarning: Deprecated since v0.6.0! Although backward compatibility is preserved, it is recommended to upgrade to get new features.\n",
            "  warnings.warn(DEPRECATED_SINCE_0_6_0)\n",
            "/usr/local/lib/python3.7/dist-packages/spacy/language.py:639: UserWarning: [W033] Training a new part-of-speech tagger using a model with an empty lexeme normalization table. This may degrade the performance to some degree. If this is intentional or this language doesn't have a normalization table, please ignore this warning.\n",
            "  **kwargs\n",
            "/usr/local/lib/python3.7/dist-packages/spacy/language.py:639: UserWarning: [W034] Please install the package spacy-lookups-data in order to include the default lexeme normalization table for the language 'en'.\n",
            "  **kwargs\n",
            "/usr/local/lib/python3.7/dist-packages/spacy/language.py:639: UserWarning: [W033] Training a new parser or NER using a model with an empty lexeme normalization table. This may degrade the performance to some degree. If this is intentional or this language doesn't have a normalization table, please ignore this warning.\n",
            "  **kwargs\n"
          ],
          "name": "stderr"
        },
        {
          "output_type": "stream",
          "text": [
            "[('PERSON', 'Bolsonaro')]\n"
          ],
          "name": "stdout"
        }
      ]
    }
  ]
}